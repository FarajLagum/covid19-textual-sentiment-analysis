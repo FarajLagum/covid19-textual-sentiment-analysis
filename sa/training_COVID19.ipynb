{
 "cells": [
  {
   "cell_type": "markdown",
   "id": "30f7cc46",
   "metadata": {
    "id": "30f7cc46"
   },
   "source": [
    "# Machine Learning For Sentiment Analysis\n",
    "\n",
    "This notebook provides instructions for preparing data and constructing a machine learning model to perform sentiment analysis. The model architecture consists of an RNN-CNN-GRU joint architecture with a pre-trained/customized embedding utilizing word2vec. The code is suitable for execution on Jupyter Notebook or Google Colab."
   ]
  },
  {
   "cell_type": "code",
   "execution_count": 1,
   "id": "214210b4",
   "metadata": {
    "colab": {
     "base_uri": "https://localhost:8080/",
     "height": 35
    },
    "executionInfo": {
     "elapsed": 5329,
     "status": "ok",
     "timestamp": 1678558191031,
     "user": {
      "displayName": "Faraj Lagum",
      "userId": "01113283037435065577"
     },
     "user_tz": 300
    },
    "id": "214210b4",
    "outputId": "355d1559-e7c6-4549-f03d-9c744050172a"
   },
   "outputs": [
    {
     "name": "stderr",
     "output_type": "stream",
     "text": [
      "2023-03-12 17:06:30.711564: I tensorflow/core/platform/cpu_feature_guard.cc:193] This TensorFlow binary is optimized with oneAPI Deep Neural Network Library (oneDNN) to use the following CPU instructions in performance-critical operations:  AVX2 FMA\n",
      "To enable them in other operations, rebuild TensorFlow with the appropriate compiler flags.\n",
      "2023-03-12 17:06:30.949836: W tensorflow/compiler/xla/stream_executor/platform/default/dso_loader.cc:64] Could not load dynamic library 'libcudart.so.11.0'; dlerror: libcudart.so.11.0: cannot open shared object file: No such file or directory\n",
      "2023-03-12 17:06:30.949865: I tensorflow/compiler/xla/stream_executor/cuda/cudart_stub.cc:29] Ignore above cudart dlerror if you do not have a GPU set up on your machine.\n",
      "2023-03-12 17:06:31.916791: W tensorflow/compiler/xla/stream_executor/platform/default/dso_loader.cc:64] Could not load dynamic library 'libnvinfer.so.7'; dlerror: libnvinfer.so.7: cannot open shared object file: No such file or directory\n",
      "2023-03-12 17:06:31.916915: W tensorflow/compiler/xla/stream_executor/platform/default/dso_loader.cc:64] Could not load dynamic library 'libnvinfer_plugin.so.7'; dlerror: libnvinfer_plugin.so.7: cannot open shared object file: No such file or directory\n",
      "2023-03-12 17:06:31.916926: W tensorflow/compiler/tf2tensorrt/utils/py_utils.cc:38] TF-TRT Warning: Cannot dlopen some TensorRT libraries. If you would like to use Nvidia GPU with TensorRT, please make sure the missing libraries mentioned above are installed properly.\n"
     ]
    },
    {
     "data": {
      "text/plain": [
       "'1.5.3'"
      ]
     },
     "execution_count": 1,
     "metadata": {},
     "output_type": "execute_result"
    }
   ],
   "source": [
    "# pandas version 1.1.4\n",
    "from time import strftime\n",
    "from pathlib import Path\n",
    "import shutil\n",
    "import tensorflow.keras.metrics as ms\n",
    "from tensorflow.keras.wrappers.scikit_learn import KerasClassifier\n",
    "from tensorflow.keras.models import Model\n",
    "from tensorflow.keras.layers import Input, Dense, Embedding, SpatialDropout1D, Dropout, concatenate, Bidirectional, GRU, Conv1D, GlobalAveragePooling1D, GlobalMaxPooling1D\n",
    "from sklearn.model_selection import GridSearchCV\n",
    "import tensorflow as tf\n",
    "import tensorflow\n",
    "from keras.utils.vis_utils import plot_model\n",
    "from keras.callbacks import EarlyStopping\n",
    "from keras.models import load_model\n",
    "from keras.callbacks import ModelCheckpoint\n",
    "from tensorflow.keras.models import Sequential\n",
    "from keras.optimizers import Adam\n",
    "from keras.layers import GlobalAveragePooling1D, GlobalMaxPooling1D, concatenate, Conv1D\n",
    "from keras.layers import Input, Dense, Embedding, SpatialDropout1D, GRU, Bidirectional, Dropout, Flatten\n",
    "from keras.models import Model\n",
    "from tensorflow.keras.preprocessing.sequence import pad_sequences\n",
    "from keras.utils.np_utils import to_categorical\n",
    "from keras.preprocessing.text import Tokenizer\n",
    "import pickle\n",
    "import numpy as np\n",
    "from sklearn import utils\n",
    "import multiprocessing\n",
    "from gensim.models.doc2vec import TaggedDocument\n",
    "from gensim.models.word2vec import Word2Vec\n",
    "import gensim\n",
    "import os\n",
    "import sys\n",
    "from tqdm import tqdm\n",
    "import re\n",
    "import pandas as pd\n",
    "\n",
    "pd.__version__"
   ]
  },
  {
   "cell_type": "code",
   "execution_count": 2,
   "id": "ebcfc09f",
   "metadata": {
    "colab": {
     "base_uri": "https://localhost:8080/"
    },
    "executionInfo": {
     "elapsed": 22,
     "status": "ok",
     "timestamp": 1678558191032,
     "user": {
      "displayName": "Faraj Lagum",
      "userId": "01113283037435065577"
     },
     "user_tz": 300
    },
    "id": "ebcfc09f",
    "outputId": "06dab3a0-2d19-477a-e276-fd4e1f840ce7"
   },
   "outputs": [
    {
     "name": "stdout",
     "output_type": "stream",
     "text": [
      "4.3.1\n"
     ]
    }
   ],
   "source": [
    "print(gensim.__version__)\n",
    "\n",
    "if gensim.__version__ < '4.3.1':\n",
    "    !pip install --upgrade gensim\n",
    "\n",
    "    # gensim-4.3.1"
   ]
  },
  {
   "cell_type": "code",
   "execution_count": 3,
   "id": "a599b9b5",
   "metadata": {
    "colab": {
     "base_uri": "https://localhost:8080/"
    },
    "executionInfo": {
     "elapsed": 14,
     "status": "ok",
     "timestamp": 1678558191034,
     "user": {
      "displayName": "Faraj Lagum",
      "userId": "01113283037435065577"
     },
     "user_tz": 300
    },
    "id": "a599b9b5",
    "outputId": "99a09e73-097f-4f8f-f1f5-425c61363c04"
   },
   "outputs": [
    {
     "name": "stdout",
     "output_type": "stream",
     "text": [
      "2.11.0\n"
     ]
    }
   ],
   "source": [
    "    print(tf.__version__)"
   ]
  },
  {
   "cell_type": "markdown",
   "id": "e972fd89",
   "metadata": {
    "id": "e972fd89"
   },
   "source": [
    "## Mount Google Drive\n",
    "To Mount your Google Drive, follow the steps. If you are running it on local machine, mounting will be skipped.\n",
    "\n"
   ]
  },
  {
   "cell_type": "code",
   "execution_count": 4,
   "id": "e7741d9d",
   "metadata": {
    "colab": {
     "base_uri": "https://localhost:8080/"
    },
    "executionInfo": {
     "elapsed": 1336,
     "status": "ok",
     "timestamp": 1678558192360,
     "user": {
      "displayName": "Faraj Lagum",
      "userId": "01113283037435065577"
     },
     "user_tz": 300
    },
    "id": "e7741d9d",
    "outputId": "3ca133c8-2085-4640-a13f-fc17bdc7dbf2"
   },
   "outputs": [],
   "source": [
    "# Location of the files\n",
    "\n",
    "\n",
    "is_colab = \"google.colab\" in sys.modules\n",
    "\n",
    "if is_colab:\n",
    "    from google.colab import drive\n",
    "    drive.mount('/content/drive/')"
   ]
  },
  {
   "cell_type": "code",
   "execution_count": 5,
   "id": "fdfb5fc6",
   "metadata": {
    "colab": {
     "base_uri": "https://localhost:8080/"
    },
    "executionInfo": {
     "elapsed": 18,
     "status": "ok",
     "timestamp": 1678558192361,
     "user": {
      "displayName": "Faraj Lagum",
      "userId": "01113283037435065577"
     },
     "user_tz": 300
    },
    "id": "fdfb5fc6",
    "outputId": "fc99fc74-b6d2-401e-b785-5e29bd61742b"
   },
   "outputs": [
    {
     "name": "stdout",
     "output_type": "stream",
     "text": [
      "/mnt/g/My Drive/Colab Notebooks/ta-sa/sa\n"
     ]
    }
   ],
   "source": [
    "cwd = os.getcwd()\n",
    "print(cwd)"
   ]
  },
  {
   "cell_type": "code",
   "execution_count": 6,
   "id": "e9130d41",
   "metadata": {
    "colab": {
     "base_uri": "https://localhost:8080/"
    },
    "executionInfo": {
     "elapsed": 15,
     "status": "ok",
     "timestamp": 1678558192362,
     "user": {
      "displayName": "Faraj Lagum",
      "userId": "01113283037435065577"
     },
     "user_tz": 300
    },
    "id": "e9130d41",
    "outputId": "bab657b5-e8e1-4d71-d70e-a6b21402086b"
   },
   "outputs": [
    {
     "data": {
      "text/plain": [
       "False"
      ]
     },
     "execution_count": 6,
     "metadata": {},
     "output_type": "execute_result"
    }
   ],
   "source": [
    "is_colab"
   ]
  },
  {
   "cell_type": "code",
   "execution_count": 7,
   "id": "00684b3e",
   "metadata": {
    "executionInfo": {
     "elapsed": 12,
     "status": "ok",
     "timestamp": 1678558192362,
     "user": {
      "displayName": "Faraj Lagum",
      "userId": "01113283037435065577"
     },
     "user_tz": 300
    },
    "id": "00684b3e"
   },
   "outputs": [],
   "source": [
    "NUM_CLASSES = 2\n",
    "num_classes = NUM_CLASSES"
   ]
  },
  {
   "cell_type": "markdown",
   "id": "93ee6883",
   "metadata": {
    "id": "93ee6883"
   },
   "source": [
    "## Setup the data, models and notebooks paths\n",
    "\n",
    "\n"
   ]
  },
  {
   "cell_type": "code",
   "execution_count": 8,
   "id": "80354260",
   "metadata": {
    "executionInfo": {
     "elapsed": 12,
     "status": "ok",
     "timestamp": 1678558192362,
     "user": {
      "displayName": "Faraj Lagum",
      "userId": "01113283037435065577"
     },
     "user_tz": 300
    },
    "id": "80354260"
   },
   "outputs": [],
   "source": [
    "\n",
    "if is_colab:\n",
    "    data_file_location = '/content/drive/My Drive/Colab Notebooks/ta-sa/sa/data/'\n",
    "    model_file_location = '/content/drive/My Drive/Colab Notebooks/ta-sa/sa/models/'\n",
    "else:\n",
    "    data_file_location = './data/'\n",
    "    model_file_location = './models/'\n",
    "\n",
    "\n",
    "tag = 'March-2023'\n",
    "\n",
    "# Trianing data\n",
    "training_data_covid_file = 'COVID19_Tweet_Main_annotated_V3_clean_training.csv'\n",
    "training_data_covid_path = data_file_location + training_data_covid_file\n",
    "\n",
    "training_data_oc_file = 'OCTranspo-all-Data_5classes_clean.csv'\n",
    "training_data_oc_path = data_file_location + training_data_oc_file\n",
    "\n",
    "\n",
    "training_data_quayside_file = 'Quayside-all-Data_5classes_clean.csv'\n",
    "training_data_quayside_path = data_file_location + training_data_quayside_file\n",
    "\n",
    "\n",
    "# Testing data\n",
    "testing_data_file = 'COVID19_Tweet_Main_annotated_V3_clean_testing.csv'\n",
    "testing_data_path = data_file_location + testing_data_file\n",
    "\n",
    "\n",
    "# Embedding data\n",
    "embedding_data_file = 'COVID19DATASET_APRIL_10_Embedding_clean.csv'\n",
    "embedding_data_path = data_file_location + embedding_data_file\n",
    "\n",
    "\n",
    "COIVD19_Best_Model_file = 'COVID19-Best-model-' + \\\n",
    "    str(NUM_CLASSES) + 'classes_' + tag + '.hdf5'\n",
    "COIVD19_Best_Model_path = model_file_location + COIVD19_Best_Model_file\n",
    "\n",
    "\n",
    "tokenizer_file = 'COVID19-tokenizer-' + \\\n",
    "    str(NUM_CLASSES) + 'classes_' + tag + '.pickle'\n",
    "tokenizer_path = model_file_location + tokenizer_file"
   ]
  },
  {
   "cell_type": "code",
   "execution_count": 9,
   "id": "a83cb304",
   "metadata": {
    "executionInfo": {
     "elapsed": 13,
     "status": "ok",
     "timestamp": 1678558192363,
     "user": {
      "displayName": "Faraj Lagum",
      "userId": "01113283037435065577"
     },
     "user_tz": 300
    },
    "id": "a83cb304"
   },
   "outputs": [],
   "source": [
    "\n",
    "# Define the mapping dictionary\n",
    "mapping_dict = {0: 0, 1: 0, 2: 1, 3: 2, 4: 2}\n",
    "\n",
    "# if NUM_CLASSES == 3:\n",
    "#     # Apply the mapping dictionary to the column\n",
    "#     training_data_covid['Score 5-Classe'] = training_data_covid['Score 5-Classe'].map(\n",
    "#         mapping_dict)\n",
    "\n",
    "\n",
    "def classes_mapping(NUM_CLASSES, mapping_dict, df):\n",
    "    if NUM_CLASSES == 3:\n",
    "        # Apply the mapping dictionary to the column\n",
    "        df['Score 5-Classe'] = df['Score 5-Classe'].map(mapping_dict)\n",
    "    if NUM_CLASSES == 2:\n",
    "        # Remove rows where col_mapped is 1\n",
    "        # df['Score 5-Classe'] = df['Score 5-Classe'].astype(str)\n",
    "        df = df[df['Score 5-Classe'] != 2]\n",
    "        mapping_dict = {0: 0, 1: 0, 3: 1, 4: 1}\n",
    "        df['Score 5-Classe'] = df['Score 5-Classe'].map(mapping_dict)\n",
    "\n",
    "    return df"
   ]
  },
  {
   "cell_type": "markdown",
   "id": "d3adbc14",
   "metadata": {
    "id": "d3adbc14"
   },
   "source": [
    "## Loading data\n",
    "\n",
    "Change the paths to reflect the dataset locations\n"
   ]
  },
  {
   "cell_type": "code",
   "execution_count": 10,
   "id": "efb171c0",
   "metadata": {
    "colab": {
     "base_uri": "https://localhost:8080/"
    },
    "executionInfo": {
     "elapsed": 12,
     "status": "ok",
     "timestamp": 1678558192363,
     "user": {
      "displayName": "Faraj Lagum",
      "userId": "01113283037435065577"
     },
     "user_tz": 300
    },
    "id": "efb171c0",
    "outputId": "afb9f62b-0c70-45d9-c1fc-84793d1aac8c"
   },
   "outputs": [
    {
     "name": "stderr",
     "output_type": "stream",
     "text": [
      "/tmp/ipykernel_20691/90246640.py:19: SettingWithCopyWarning: \n",
      "A value is trying to be set on a copy of a slice from a DataFrame.\n",
      "Try using .loc[row_indexer,col_indexer] = value instead\n",
      "\n",
      "See the caveats in the documentation: https://pandas.pydata.org/pandas-docs/stable/user_guide/indexing.html#returning-a-view-versus-a-copy\n",
      "  df['Score 5-Classe'] = df['Score 5-Classe'].map(mapping_dict)\n"
     ]
    }
   ],
   "source": [
    "# Load the training data 1\n",
    "\n",
    "training_data_covid = pd.read_csv(\n",
    "    training_data_covid_path, encoding=\"ISO-8859-1\", on_bad_lines='skip', usecols=[1, 5])\n",
    "training_data_covid.head(10)\n",
    "\n",
    "training_data_covid = classes_mapping(\n",
    "    NUM_CLASSES, mapping_dict, training_data_covid)"
   ]
  },
  {
   "cell_type": "code",
   "execution_count": 11,
   "id": "93f228fa",
   "metadata": {
    "colab": {
     "base_uri": "https://localhost:8080/"
    },
    "executionInfo": {
     "elapsed": 9,
     "status": "ok",
     "timestamp": 1678558192363,
     "user": {
      "displayName": "Faraj Lagum",
      "userId": "01113283037435065577"
     },
     "user_tz": 300
    },
    "id": "93f228fa",
    "outputId": "97776686-9005-4846-e3ac-bd9ced3679cf"
   },
   "outputs": [
    {
     "name": "stdout",
     "output_type": "stream",
     "text": [
      "<class 'pandas.core.frame.DataFrame'>\n",
      "Int64Index: 306 entries, 0 to 373\n",
      "Data columns (total 2 columns):\n",
      " #   Column          Non-Null Count  Dtype \n",
      "---  ------          --------------  ----- \n",
      " 0   clean_text      306 non-null    object\n",
      " 1   Score 5-Classe  306 non-null    int64 \n",
      "dtypes: int64(1), object(1)\n",
      "memory usage: 7.2+ KB\n"
     ]
    },
    {
     "data": {
      "text/plain": [
       "Index(['clean_text', 'Score 5-Classe'], dtype='object')"
      ]
     },
     "execution_count": 11,
     "metadata": {},
     "output_type": "execute_result"
    }
   ],
   "source": [
    "training_data_covid.info()\n",
    "training_data_covid.columns"
   ]
  },
  {
   "cell_type": "code",
   "execution_count": 12,
   "id": "b09d298d",
   "metadata": {
    "colab": {
     "base_uri": "https://localhost:8080/"
    },
    "executionInfo": {
     "elapsed": 310,
     "status": "ok",
     "timestamp": 1678558192667,
     "user": {
      "displayName": "Faraj Lagum",
      "userId": "01113283037435065577"
     },
     "user_tz": 300
    },
    "id": "b09d298d",
    "outputId": "64094822-f406-46c2-9feb-662364c1029d"
   },
   "outputs": [
    {
     "data": {
      "text/plain": [
       "1    154\n",
       "0    152\n",
       "Name: Score 5-Classe, dtype: int64"
      ]
     },
     "execution_count": 12,
     "metadata": {},
     "output_type": "execute_result"
    }
   ],
   "source": [
    "training_data_covid[\"Score 5-Classe\"].value_counts()"
   ]
  },
  {
   "cell_type": "code",
   "execution_count": 13,
   "id": "af2b20c0",
   "metadata": {
    "colab": {
     "base_uri": "https://localhost:8080/"
    },
    "executionInfo": {
     "elapsed": 32,
     "status": "ok",
     "timestamp": 1678558192667,
     "user": {
      "displayName": "Faraj Lagum",
      "userId": "01113283037435065577"
     },
     "user_tz": 300
    },
    "id": "af2b20c0",
    "outputId": "77c856cf-04b3-4526-bdb7-9f30c900500b"
   },
   "outputs": [
    {
     "data": {
      "text/plain": [
       "1    154\n",
       "0    152\n",
       "Name: Score 5-Classe, dtype: int64"
      ]
     },
     "execution_count": 13,
     "metadata": {},
     "output_type": "execute_result"
    }
   ],
   "source": [
    "training_data_covid[\"Score 5-Classe\"].value_counts()"
   ]
  },
  {
   "cell_type": "code",
   "execution_count": 14,
   "id": "451c6076",
   "metadata": {
    "executionInfo": {
     "elapsed": 27,
     "status": "ok",
     "timestamp": 1678558192668,
     "user": {
      "displayName": "Faraj Lagum",
      "userId": "01113283037435065577"
     },
     "user_tz": 300
    },
    "id": "451c6076"
   },
   "outputs": [],
   "source": [
    "text_col = \"Text\"\n",
    "\n",
    "sentiment_col = 'Sentiment'"
   ]
  },
  {
   "cell_type": "code",
   "execution_count": 15,
   "id": "5ff408df",
   "metadata": {
    "colab": {
     "base_uri": "https://localhost:8080/",
     "height": 238
    },
    "executionInfo": {
     "elapsed": 27,
     "status": "ok",
     "timestamp": 1678558192668,
     "user": {
      "displayName": "Faraj Lagum",
      "userId": "01113283037435065577"
     },
     "user_tz": 300
    },
    "id": "5ff408df",
    "outputId": "8c1e761a-23ae-42fd-e42c-4347ac26605d"
   },
   "outputs": [
    {
     "data": {
      "text/html": [
       "<div>\n",
       "<style scoped>\n",
       "    .dataframe tbody tr th:only-of-type {\n",
       "        vertical-align: middle;\n",
       "    }\n",
       "\n",
       "    .dataframe tbody tr th {\n",
       "        vertical-align: top;\n",
       "    }\n",
       "\n",
       "    .dataframe thead th {\n",
       "        text-align: right;\n",
       "    }\n",
       "</style>\n",
       "<table border=\"1\" class=\"dataframe\">\n",
       "  <thead>\n",
       "    <tr style=\"text-align: right;\">\n",
       "      <th></th>\n",
       "      <th>Text</th>\n",
       "      <th>Sentiment</th>\n",
       "    </tr>\n",
       "  </thead>\n",
       "  <tbody>\n",
       "    <tr>\n",
       "      <th>0</th>\n",
       "      <td>planning today guess will eat can bean til apo...</td>\n",
       "      <td>0</td>\n",
       "    </tr>\n",
       "    <tr>\n",
       "      <th>2</th>\n",
       "      <td>perplex why government need certain amount peo...</td>\n",
       "      <td>0</td>\n",
       "    </tr>\n",
       "    <tr>\n",
       "      <th>3</th>\n",
       "      <td>problem with exempt border closure unless purp...</td>\n",
       "      <td>0</td>\n",
       "    </tr>\n",
       "    <tr>\n",
       "      <th>4</th>\n",
       "      <td>example community contribution influence time ...</td>\n",
       "      <td>1</td>\n",
       "    </tr>\n",
       "    <tr>\n",
       "      <th>5</th>\n",
       "      <td>wage subsidy make zero sense most small busine...</td>\n",
       "      <td>0</td>\n",
       "    </tr>\n",
       "    <tr>\n",
       "      <th>6</th>\n",
       "      <td>need more close will italy spain know</td>\n",
       "      <td>0</td>\n",
       "    </tr>\n",
       "  </tbody>\n",
       "</table>\n",
       "</div>"
      ],
      "text/plain": [
       "                                                Text  Sentiment\n",
       "0  planning today guess will eat can bean til apo...          0\n",
       "2  perplex why government need certain amount peo...          0\n",
       "3  problem with exempt border closure unless purp...          0\n",
       "4  example community contribution influence time ...          1\n",
       "5  wage subsidy make zero sense most small busine...          0\n",
       "6              need more close will italy spain know          0"
      ]
     },
     "execution_count": 15,
     "metadata": {},
     "output_type": "execute_result"
    }
   ],
   "source": [
    "training_data_covid.columns = [text_col, sentiment_col]\n",
    "training_data_covid.head(6)"
   ]
  },
  {
   "cell_type": "code",
   "execution_count": 16,
   "id": "b41e8873",
   "metadata": {
    "colab": {
     "base_uri": "https://localhost:8080/",
     "height": 112
    },
    "executionInfo": {
     "elapsed": 26,
     "status": "ok",
     "timestamp": 1678558192668,
     "user": {
      "displayName": "Faraj Lagum",
      "userId": "01113283037435065577"
     },
     "user_tz": 300
    },
    "id": "b41e8873",
    "outputId": "be69db94-677a-45b1-c3fa-6bb238f4aaef"
   },
   "outputs": [
    {
     "data": {
      "text/html": [
       "<div>\n",
       "<style scoped>\n",
       "    .dataframe tbody tr th:only-of-type {\n",
       "        vertical-align: middle;\n",
       "    }\n",
       "\n",
       "    .dataframe tbody tr th {\n",
       "        vertical-align: top;\n",
       "    }\n",
       "\n",
       "    .dataframe thead th {\n",
       "        text-align: right;\n",
       "    }\n",
       "</style>\n",
       "<table border=\"1\" class=\"dataframe\">\n",
       "  <thead>\n",
       "    <tr style=\"text-align: right;\">\n",
       "      <th></th>\n",
       "      <th>Score 5-Classe</th>\n",
       "      <th>clean_text</th>\n",
       "    </tr>\n",
       "  </thead>\n",
       "  <tbody>\n",
       "    <tr>\n",
       "      <th>0</th>\n",
       "      <td>4</td>\n",
       "      <td>first experience with train fantastic arrive m...</td>\n",
       "    </tr>\n",
       "    <tr>\n",
       "      <th>1</th>\n",
       "      <td>0</td>\n",
       "      <td>witness agent completely careless person distr...</td>\n",
       "    </tr>\n",
       "  </tbody>\n",
       "</table>\n",
       "</div>"
      ],
      "text/plain": [
       "   Score 5-Classe                                         clean_text\n",
       "0               4  first experience with train fantastic arrive m...\n",
       "1               0  witness agent completely careless person distr..."
      ]
     },
     "execution_count": 16,
     "metadata": {},
     "output_type": "execute_result"
    }
   ],
   "source": [
    "# Load the training data 2\n",
    "\n",
    "training_data_oc = pd.read_csv(\n",
    "    training_data_oc_path, encoding=\"ISO-8859-1\", on_bad_lines='skip', usecols=[1, 2])\n",
    "training_data_oc.head(2)"
   ]
  },
  {
   "cell_type": "code",
   "execution_count": 17,
   "id": "d2bcbe7c",
   "metadata": {
    "colab": {
     "base_uri": "https://localhost:8080/"
    },
    "executionInfo": {
     "elapsed": 26,
     "status": "ok",
     "timestamp": 1678558192669,
     "user": {
      "displayName": "Faraj Lagum",
      "userId": "01113283037435065577"
     },
     "user_tz": 300
    },
    "id": "d2bcbe7c",
    "outputId": "7e7567ac-3924-4ad1-96ad-9f42ea5b1beb"
   },
   "outputs": [
    {
     "name": "stderr",
     "output_type": "stream",
     "text": [
      "/tmp/ipykernel_20691/90246640.py:19: SettingWithCopyWarning: \n",
      "A value is trying to be set on a copy of a slice from a DataFrame.\n",
      "Try using .loc[row_indexer,col_indexer] = value instead\n",
      "\n",
      "See the caveats in the documentation: https://pandas.pydata.org/pandas-docs/stable/user_guide/indexing.html#returning-a-view-versus-a-copy\n",
      "  df['Score 5-Classe'] = df['Score 5-Classe'].map(mapping_dict)\n"
     ]
    }
   ],
   "source": [
    "\n",
    "\n",
    "training_data_oc = classes_mapping(NUM_CLASSES, mapping_dict, training_data_oc)"
   ]
  },
  {
   "cell_type": "code",
   "execution_count": 18,
   "id": "92e82c14",
   "metadata": {
    "colab": {
     "base_uri": "https://localhost:8080/"
    },
    "executionInfo": {
     "elapsed": 24,
     "status": "ok",
     "timestamp": 1678558192669,
     "user": {
      "displayName": "Faraj Lagum",
      "userId": "01113283037435065577"
     },
     "user_tz": 300
    },
    "id": "92e82c14",
    "outputId": "d65113cb-6d8e-439f-832d-79863e9c09ec"
   },
   "outputs": [
    {
     "data": {
      "text/plain": [
       "1    713\n",
       "0    629\n",
       "Name: Score 5-Classe, dtype: int64"
      ]
     },
     "execution_count": 18,
     "metadata": {},
     "output_type": "execute_result"
    }
   ],
   "source": [
    "training_data_oc[\"Score 5-Classe\"].value_counts()"
   ]
  },
  {
   "cell_type": "code",
   "execution_count": 19,
   "id": "9e4b92e6",
   "metadata": {
    "executionInfo": {
     "elapsed": 22,
     "status": "ok",
     "timestamp": 1678558192670,
     "user": {
      "displayName": "Faraj Lagum",
      "userId": "01113283037435065577"
     },
     "user_tz": 300
    },
    "id": "9e4b92e6"
   },
   "outputs": [],
   "source": [
    "# change the order of the coloumns\n",
    "training_data_oc = training_data_oc[['clean_text', 'Score 5-Classe']]"
   ]
  },
  {
   "cell_type": "code",
   "execution_count": 20,
   "id": "916621ad",
   "metadata": {
    "colab": {
     "base_uri": "https://localhost:8080/",
     "height": 112
    },
    "executionInfo": {
     "elapsed": 22,
     "status": "ok",
     "timestamp": 1678558192670,
     "user": {
      "displayName": "Faraj Lagum",
      "userId": "01113283037435065577"
     },
     "user_tz": 300
    },
    "id": "916621ad",
    "outputId": "d6744586-e651-4d47-ce62-9c2d5b306c2a"
   },
   "outputs": [
    {
     "data": {
      "text/html": [
       "<div>\n",
       "<style scoped>\n",
       "    .dataframe tbody tr th:only-of-type {\n",
       "        vertical-align: middle;\n",
       "    }\n",
       "\n",
       "    .dataframe tbody tr th {\n",
       "        vertical-align: top;\n",
       "    }\n",
       "\n",
       "    .dataframe thead th {\n",
       "        text-align: right;\n",
       "    }\n",
       "</style>\n",
       "<table border=\"1\" class=\"dataframe\">\n",
       "  <thead>\n",
       "    <tr style=\"text-align: right;\">\n",
       "      <th></th>\n",
       "      <th>Text</th>\n",
       "      <th>Sentiment</th>\n",
       "    </tr>\n",
       "  </thead>\n",
       "  <tbody>\n",
       "    <tr>\n",
       "      <th>0</th>\n",
       "      <td>first experience with train fantastic arrive m...</td>\n",
       "      <td>1</td>\n",
       "    </tr>\n",
       "    <tr>\n",
       "      <th>1</th>\n",
       "      <td>witness agent completely careless person distr...</td>\n",
       "      <td>0</td>\n",
       "    </tr>\n",
       "  </tbody>\n",
       "</table>\n",
       "</div>"
      ],
      "text/plain": [
       "                                                Text  Sentiment\n",
       "0  first experience with train fantastic arrive m...          1\n",
       "1  witness agent completely careless person distr...          0"
      ]
     },
     "execution_count": 20,
     "metadata": {},
     "output_type": "execute_result"
    }
   ],
   "source": [
    "\n",
    "\n",
    "training_data_oc.columns = [text_col, sentiment_col]\n",
    "training_data_oc.head(2)"
   ]
  },
  {
   "cell_type": "code",
   "execution_count": 21,
   "id": "47e03c8f",
   "metadata": {
    "colab": {
     "base_uri": "https://localhost:8080/",
     "height": 112
    },
    "executionInfo": {
     "elapsed": 22,
     "status": "ok",
     "timestamp": 1678558192671,
     "user": {
      "displayName": "Faraj Lagum",
      "userId": "01113283037435065577"
     },
     "user_tz": 300
    },
    "id": "47e03c8f",
    "outputId": "287964d6-0e73-48fe-a7cf-0ce3e3315124"
   },
   "outputs": [
    {
     "data": {
      "text/html": [
       "<div>\n",
       "<style scoped>\n",
       "    .dataframe tbody tr th:only-of-type {\n",
       "        vertical-align: middle;\n",
       "    }\n",
       "\n",
       "    .dataframe tbody tr th {\n",
       "        vertical-align: top;\n",
       "    }\n",
       "\n",
       "    .dataframe thead th {\n",
       "        text-align: right;\n",
       "    }\n",
       "</style>\n",
       "<table border=\"1\" class=\"dataframe\">\n",
       "  <thead>\n",
       "    <tr style=\"text-align: right;\">\n",
       "      <th></th>\n",
       "      <th>Score 5-Classe</th>\n",
       "      <th>clean_text</th>\n",
       "    </tr>\n",
       "  </thead>\n",
       "  <tbody>\n",
       "    <tr>\n",
       "      <th>0</th>\n",
       "      <td>0</td>\n",
       "      <td>waterfront toronto limited experience digital ...</td>\n",
       "    </tr>\n",
       "    <tr>\n",
       "      <th>1</th>\n",
       "      <td>1</td>\n",
       "      <td>data will collect google use advertising purpose</td>\n",
       "    </tr>\n",
       "  </tbody>\n",
       "</table>\n",
       "</div>"
      ],
      "text/plain": [
       "   Score 5-Classe                                         clean_text\n",
       "0               0  waterfront toronto limited experience digital ...\n",
       "1               1   data will collect google use advertising purpose"
      ]
     },
     "execution_count": 21,
     "metadata": {},
     "output_type": "execute_result"
    }
   ],
   "source": [
    "# Load the training data 3\n",
    "\n",
    "training_data_quayside = pd.read_csv(training_data_quayside_path, encoding=\"ISO-8859-1\",\n",
    "                                     on_bad_lines='skip', usecols=[1, 2])  # error_bad_lines=False\n",
    "\n",
    "\n",
    "training_data_quayside.head(2)"
   ]
  },
  {
   "cell_type": "code",
   "execution_count": 22,
   "id": "e70fce4f",
   "metadata": {
    "colab": {
     "base_uri": "https://localhost:8080/"
    },
    "executionInfo": {
     "elapsed": 21,
     "status": "ok",
     "timestamp": 1678558192671,
     "user": {
      "displayName": "Faraj Lagum",
      "userId": "01113283037435065577"
     },
     "user_tz": 300
    },
    "id": "e70fce4f",
    "outputId": "0499ff5c-9cc8-4793-94a6-dd14410f7998"
   },
   "outputs": [
    {
     "name": "stderr",
     "output_type": "stream",
     "text": [
      "/tmp/ipykernel_20691/90246640.py:19: SettingWithCopyWarning: \n",
      "A value is trying to be set on a copy of a slice from a DataFrame.\n",
      "Try using .loc[row_indexer,col_indexer] = value instead\n",
      "\n",
      "See the caveats in the documentation: https://pandas.pydata.org/pandas-docs/stable/user_guide/indexing.html#returning-a-view-versus-a-copy\n",
      "  df['Score 5-Classe'] = df['Score 5-Classe'].map(mapping_dict)\n"
     ]
    }
   ],
   "source": [
    "# if NUM_CLASSES == 3:\n",
    "#     # Apply the mapping dictionary to the column\n",
    "#     training_data_quayside['Score 5-Classe'] = training_data_quayside['Score 5-Classe'].map(\n",
    "#         mapping_dict)\n",
    "\n",
    "\n",
    "training_data_quayside = classes_mapping(\n",
    "    NUM_CLASSES, mapping_dict, training_data_quayside)"
   ]
  },
  {
   "cell_type": "code",
   "execution_count": 23,
   "id": "c05ee605",
   "metadata": {
    "colab": {
     "base_uri": "https://localhost:8080/"
    },
    "executionInfo": {
     "elapsed": 20,
     "status": "ok",
     "timestamp": 1678558192672,
     "user": {
      "displayName": "Faraj Lagum",
      "userId": "01113283037435065577"
     },
     "user_tz": 300
    },
    "id": "c05ee605",
    "outputId": "5bec100f-bc7c-4f58-ec50-731d4b9d1100"
   },
   "outputs": [
    {
     "data": {
      "text/plain": [
       "0    463\n",
       "1    357\n",
       "Name: Score 5-Classe, dtype: int64"
      ]
     },
     "execution_count": 23,
     "metadata": {},
     "output_type": "execute_result"
    }
   ],
   "source": [
    "training_data_quayside[\"Score 5-Classe\"].value_counts()"
   ]
  },
  {
   "cell_type": "code",
   "execution_count": 24,
   "id": "0277201e",
   "metadata": {
    "executionInfo": {
     "elapsed": 18,
     "status": "ok",
     "timestamp": 1678558192673,
     "user": {
      "displayName": "Faraj Lagum",
      "userId": "01113283037435065577"
     },
     "user_tz": 300
    },
    "id": "0277201e"
   },
   "outputs": [],
   "source": [
    "\n",
    "# change the order of the coloumns\n",
    "training_data_quayside = training_data_quayside[[\n",
    "    'clean_text', 'Score 5-Classe']]"
   ]
  },
  {
   "cell_type": "code",
   "execution_count": 25,
   "id": "c8c5d46d",
   "metadata": {
    "colab": {
     "base_uri": "https://localhost:8080/",
     "height": 363
    },
    "executionInfo": {
     "elapsed": 26,
     "status": "ok",
     "timestamp": 1678558192906,
     "user": {
      "displayName": "Faraj Lagum",
      "userId": "01113283037435065577"
     },
     "user_tz": 300
    },
    "id": "c8c5d46d",
    "outputId": "bc056eb1-8f90-4e8b-859b-b60f12cf02c7"
   },
   "outputs": [
    {
     "data": {
      "text/html": [
       "<div>\n",
       "<style scoped>\n",
       "    .dataframe tbody tr th:only-of-type {\n",
       "        vertical-align: middle;\n",
       "    }\n",
       "\n",
       "    .dataframe tbody tr th {\n",
       "        vertical-align: top;\n",
       "    }\n",
       "\n",
       "    .dataframe thead th {\n",
       "        text-align: right;\n",
       "    }\n",
       "</style>\n",
       "<table border=\"1\" class=\"dataframe\">\n",
       "  <thead>\n",
       "    <tr style=\"text-align: right;\">\n",
       "      <th></th>\n",
       "      <th>Text</th>\n",
       "      <th>Sentiment</th>\n",
       "    </tr>\n",
       "  </thead>\n",
       "  <tbody>\n",
       "    <tr>\n",
       "      <th>0</th>\n",
       "      <td>waterfront toronto limited experience digital ...</td>\n",
       "      <td>0</td>\n",
       "    </tr>\n",
       "    <tr>\n",
       "      <th>1</th>\n",
       "      <td>data will collect google use advertising purpose</td>\n",
       "      <td>0</td>\n",
       "    </tr>\n",
       "    <tr>\n",
       "      <th>3</th>\n",
       "      <td>not_know why government commit much one company</td>\n",
       "      <td>0</td>\n",
       "    </tr>\n",
       "    <tr>\n",
       "      <th>4</th>\n",
       "      <td>excite project future</td>\n",
       "      <td>1</td>\n",
       "    </tr>\n",
       "    <tr>\n",
       "      <th>5</th>\n",
       "      <td>must stop sidewalk toronto wast money</td>\n",
       "      <td>0</td>\n",
       "    </tr>\n",
       "    <tr>\n",
       "      <th>6</th>\n",
       "      <td>city full sensor well wrong with</td>\n",
       "      <td>0</td>\n",
       "    </tr>\n",
       "    <tr>\n",
       "      <th>7</th>\n",
       "      <td>what will collect data guess google aim use ga...</td>\n",
       "      <td>0</td>\n",
       "    </tr>\n",
       "    <tr>\n",
       "      <th>8</th>\n",
       "      <td>why not_enough information regard project</td>\n",
       "      <td>0</td>\n",
       "    </tr>\n",
       "    <tr>\n",
       "      <th>10</th>\n",
       "      <td>realy excite look forward see smartcity</td>\n",
       "      <td>1</td>\n",
       "    </tr>\n",
       "    <tr>\n",
       "      <th>11</th>\n",
       "      <td>not_know why people not_like smart city mean g...</td>\n",
       "      <td>1</td>\n",
       "    </tr>\n",
       "  </tbody>\n",
       "</table>\n",
       "</div>"
      ],
      "text/plain": [
       "                                                 Text  Sentiment\n",
       "0   waterfront toronto limited experience digital ...          0\n",
       "1    data will collect google use advertising purpose          0\n",
       "3     not_know why government commit much one company          0\n",
       "4                               excite project future          1\n",
       "5               must stop sidewalk toronto wast money          0\n",
       "6                    city full sensor well wrong with          0\n",
       "7   what will collect data guess google aim use ga...          0\n",
       "8           why not_enough information regard project          0\n",
       "10            realy excite look forward see smartcity          1\n",
       "11  not_know why people not_like smart city mean g...          1"
      ]
     },
     "execution_count": 25,
     "metadata": {},
     "output_type": "execute_result"
    }
   ],
   "source": [
    "\n",
    "training_data_quayside.columns = [text_col, sentiment_col]\n",
    "training_data_quayside.head(10)"
   ]
  },
  {
   "cell_type": "code",
   "execution_count": 26,
   "id": "92511e33",
   "metadata": {
    "colab": {
     "base_uri": "https://localhost:8080/",
     "height": 112
    },
    "executionInfo": {
     "elapsed": 25,
     "status": "ok",
     "timestamp": 1678558192906,
     "user": {
      "displayName": "Faraj Lagum",
      "userId": "01113283037435065577"
     },
     "user_tz": 300
    },
    "id": "92511e33",
    "outputId": "7f7f180c-568f-46fe-f340-f4cb99ff427d"
   },
   "outputs": [
    {
     "data": {
      "text/html": [
       "<div>\n",
       "<style scoped>\n",
       "    .dataframe tbody tr th:only-of-type {\n",
       "        vertical-align: middle;\n",
       "    }\n",
       "\n",
       "    .dataframe tbody tr th {\n",
       "        vertical-align: top;\n",
       "    }\n",
       "\n",
       "    .dataframe thead th {\n",
       "        text-align: right;\n",
       "    }\n",
       "</style>\n",
       "<table border=\"1\" class=\"dataframe\">\n",
       "  <thead>\n",
       "    <tr style=\"text-align: right;\">\n",
       "      <th></th>\n",
       "      <th>clean_text</th>\n",
       "      <th>Score 5-Classe</th>\n",
       "    </tr>\n",
       "  </thead>\n",
       "  <tbody>\n",
       "    <tr>\n",
       "      <th>0</th>\n",
       "      <td>read main reason company still operating due p...</td>\n",
       "      <td>1</td>\n",
       "    </tr>\n",
       "    <tr>\n",
       "      <th>1</th>\n",
       "      <td>lol chill man test many people possible right ...</td>\n",
       "      <td>3</td>\n",
       "    </tr>\n",
       "  </tbody>\n",
       "</table>\n",
       "</div>"
      ],
      "text/plain": [
       "                                          clean_text  Score 5-Classe\n",
       "0  read main reason company still operating due p...               1\n",
       "1  lol chill man test many people possible right ...               3"
      ]
     },
     "execution_count": 26,
     "metadata": {},
     "output_type": "execute_result"
    }
   ],
   "source": [
    "# Load Testing Data\n",
    "\n",
    "testing_data = pd.read_csv(testing_data_path, encoding=\"ISO-8859-1\",\n",
    "                           on_bad_lines='skip', usecols=[1, 5])  # error_bad_lines=False\n",
    "testing_data.head(2)"
   ]
  },
  {
   "cell_type": "code",
   "execution_count": 27,
   "id": "840cee44",
   "metadata": {
    "colab": {
     "base_uri": "https://localhost:8080/"
    },
    "executionInfo": {
     "elapsed": 24,
     "status": "ok",
     "timestamp": 1678558192907,
     "user": {
      "displayName": "Faraj Lagum",
      "userId": "01113283037435065577"
     },
     "user_tz": 300
    },
    "id": "840cee44",
    "outputId": "cb08c601-79b3-4994-86f9-47787fb97e6b"
   },
   "outputs": [
    {
     "name": "stderr",
     "output_type": "stream",
     "text": [
      "/tmp/ipykernel_20691/90246640.py:19: SettingWithCopyWarning: \n",
      "A value is trying to be set on a copy of a slice from a DataFrame.\n",
      "Try using .loc[row_indexer,col_indexer] = value instead\n",
      "\n",
      "See the caveats in the documentation: https://pandas.pydata.org/pandas-docs/stable/user_guide/indexing.html#returning-a-view-versus-a-copy\n",
      "  df['Score 5-Classe'] = df['Score 5-Classe'].map(mapping_dict)\n"
     ]
    }
   ],
   "source": [
    "# if NUM_CLASSES == 3:\n",
    "#     # Apply the mapping dictionary to the column\n",
    "#     testing_data['Score 5-Classe'] = testing_data['Score 5-Classe'].map(\n",
    "#         mapping_dict)\n",
    "\n",
    "testing_data = classes_mapping(NUM_CLASSES, mapping_dict, testing_data)"
   ]
  },
  {
   "cell_type": "code",
   "execution_count": 28,
   "id": "21327aa0",
   "metadata": {
    "colab": {
     "base_uri": "https://localhost:8080/"
    },
    "executionInfo": {
     "elapsed": 17,
     "status": "ok",
     "timestamp": 1678558192907,
     "user": {
      "displayName": "Faraj Lagum",
      "userId": "01113283037435065577"
     },
     "user_tz": 300
    },
    "id": "21327aa0",
    "outputId": "13927a05-52b2-493c-d6e5-56cd98c8d862"
   },
   "outputs": [
    {
     "data": {
      "text/plain": [
       "1    156\n",
       "0    129\n",
       "Name: Score 5-Classe, dtype: int64"
      ]
     },
     "execution_count": 28,
     "metadata": {},
     "output_type": "execute_result"
    }
   ],
   "source": [
    "testing_data[\"Score 5-Classe\"].value_counts()"
   ]
  },
  {
   "cell_type": "code",
   "execution_count": 29,
   "id": "ec9a9cdc",
   "metadata": {
    "colab": {
     "base_uri": "https://localhost:8080/",
     "height": 112
    },
    "executionInfo": {
     "elapsed": 14,
     "status": "ok",
     "timestamp": 1678558192907,
     "user": {
      "displayName": "Faraj Lagum",
      "userId": "01113283037435065577"
     },
     "user_tz": 300
    },
    "id": "ec9a9cdc",
    "outputId": "1aa1e8e2-566e-4c83-9c0a-909856799a00"
   },
   "outputs": [
    {
     "data": {
      "text/html": [
       "<div>\n",
       "<style scoped>\n",
       "    .dataframe tbody tr th:only-of-type {\n",
       "        vertical-align: middle;\n",
       "    }\n",
       "\n",
       "    .dataframe tbody tr th {\n",
       "        vertical-align: top;\n",
       "    }\n",
       "\n",
       "    .dataframe thead th {\n",
       "        text-align: right;\n",
       "    }\n",
       "</style>\n",
       "<table border=\"1\" class=\"dataframe\">\n",
       "  <thead>\n",
       "    <tr style=\"text-align: right;\">\n",
       "      <th></th>\n",
       "      <th>Text</th>\n",
       "      <th>Sentiment</th>\n",
       "    </tr>\n",
       "  </thead>\n",
       "  <tbody>\n",
       "    <tr>\n",
       "      <th>0</th>\n",
       "      <td>read main reason company still operating due p...</td>\n",
       "      <td>0</td>\n",
       "    </tr>\n",
       "    <tr>\n",
       "      <th>1</th>\n",
       "      <td>lol chill man test many people possible right ...</td>\n",
       "      <td>1</td>\n",
       "    </tr>\n",
       "  </tbody>\n",
       "</table>\n",
       "</div>"
      ],
      "text/plain": [
       "                                                Text  Sentiment\n",
       "0  read main reason company still operating due p...          0\n",
       "1  lol chill man test many people possible right ...          1"
      ]
     },
     "execution_count": 29,
     "metadata": {},
     "output_type": "execute_result"
    }
   ],
   "source": [
    "testing_data.columns = [text_col, sentiment_col]\n",
    "testing_data.head(2)"
   ]
  },
  {
   "cell_type": "code",
   "execution_count": 30,
   "id": "99e63607",
   "metadata": {
    "executionInfo": {
     "elapsed": 13,
     "status": "ok",
     "timestamp": 1678558192907,
     "user": {
      "displayName": "Faraj Lagum",
      "userId": "01113283037435065577"
     },
     "user_tz": 300
    },
    "id": "99e63607"
   },
   "outputs": [],
   "source": [
    "testing_data.dropna(inplace=True)"
   ]
  },
  {
   "cell_type": "code",
   "execution_count": 31,
   "id": "524b48bc",
   "metadata": {
    "executionInfo": {
     "elapsed": 13,
     "status": "ok",
     "timestamp": 1678558192908,
     "user": {
      "displayName": "Faraj Lagum",
      "userId": "01113283037435065577"
     },
     "user_tz": 300
    },
    "id": "524b48bc"
   },
   "outputs": [],
   "source": [
    "# testing_data[text_col][100:]"
   ]
  },
  {
   "cell_type": "code",
   "execution_count": 32,
   "id": "e87b2c01",
   "metadata": {
    "colab": {
     "base_uri": "https://localhost:8080/",
     "height": 112
    },
    "executionInfo": {
     "elapsed": 244,
     "status": "ok",
     "timestamp": 1678558193139,
     "user": {
      "displayName": "Faraj Lagum",
      "userId": "01113283037435065577"
     },
     "user_tz": 300
    },
    "id": "e87b2c01",
    "outputId": "8378544b-5c7d-4a6a-ad82-03ac488c5706"
   },
   "outputs": [
    {
     "data": {
      "text/html": [
       "<div>\n",
       "<style scoped>\n",
       "    .dataframe tbody tr th:only-of-type {\n",
       "        vertical-align: middle;\n",
       "    }\n",
       "\n",
       "    .dataframe tbody tr th {\n",
       "        vertical-align: top;\n",
       "    }\n",
       "\n",
       "    .dataframe thead th {\n",
       "        text-align: right;\n",
       "    }\n",
       "</style>\n",
       "<table border=\"1\" class=\"dataframe\">\n",
       "  <thead>\n",
       "    <tr style=\"text-align: right;\">\n",
       "      <th></th>\n",
       "      <th>clean_text</th>\n",
       "    </tr>\n",
       "  </thead>\n",
       "  <tbody>\n",
       "    <tr>\n",
       "      <th>0</th>\n",
       "      <td>health official across ontario ottawa prepare ...</td>\n",
       "    </tr>\n",
       "    <tr>\n",
       "      <th>1</th>\n",
       "      <td>government think slow</td>\n",
       "    </tr>\n",
       "  </tbody>\n",
       "</table>\n",
       "</div>"
      ],
      "text/plain": [
       "                                          clean_text\n",
       "0  health official across ontario ottawa prepare ...\n",
       "1                              government think slow"
      ]
     },
     "execution_count": 32,
     "metadata": {},
     "output_type": "execute_result"
    }
   ],
   "source": [
    "# Load Embedding Data\n",
    "\n",
    "embedding_data = pd.read_csv(\n",
    "    embedding_data_path, encoding=\"ISO-8859-1\", on_bad_lines='skip', usecols=[4])\n",
    "embedding_data.head(2)"
   ]
  },
  {
   "cell_type": "code",
   "execution_count": 33,
   "id": "e2e6de50",
   "metadata": {
    "executionInfo": {
     "elapsed": 14,
     "status": "ok",
     "timestamp": 1678558193140,
     "user": {
      "displayName": "Faraj Lagum",
      "userId": "01113283037435065577"
     },
     "user_tz": 300
    },
    "id": "e2e6de50"
   },
   "outputs": [],
   "source": [
    "# import numpy as np\n",
    "# embedding_data['clean_text'][1] = np.nan"
   ]
  },
  {
   "cell_type": "code",
   "execution_count": 34,
   "id": "f7933759",
   "metadata": {
    "executionInfo": {
     "elapsed": 13,
     "status": "ok",
     "timestamp": 1678558193140,
     "user": {
      "displayName": "Faraj Lagum",
      "userId": "01113283037435065577"
     },
     "user_tz": 300
    },
    "id": "f7933759"
   },
   "outputs": [],
   "source": [
    "embedding_data.dropna(inplace=True)"
   ]
  },
  {
   "cell_type": "code",
   "execution_count": 35,
   "id": "f732dc9f",
   "metadata": {
    "colab": {
     "base_uri": "https://localhost:8080/",
     "height": 206
    },
    "executionInfo": {
     "elapsed": 13,
     "status": "ok",
     "timestamp": 1678558193140,
     "user": {
      "displayName": "Faraj Lagum",
      "userId": "01113283037435065577"
     },
     "user_tz": 300
    },
    "id": "f732dc9f",
    "outputId": "289eaaf0-fd1e-4452-92fd-9a5dc0357bcd"
   },
   "outputs": [
    {
     "data": {
      "text/html": [
       "<div>\n",
       "<style scoped>\n",
       "    .dataframe tbody tr th:only-of-type {\n",
       "        vertical-align: middle;\n",
       "    }\n",
       "\n",
       "    .dataframe tbody tr th {\n",
       "        vertical-align: top;\n",
       "    }\n",
       "\n",
       "    .dataframe thead th {\n",
       "        text-align: right;\n",
       "    }\n",
       "</style>\n",
       "<table border=\"1\" class=\"dataframe\">\n",
       "  <thead>\n",
       "    <tr style=\"text-align: right;\">\n",
       "      <th></th>\n",
       "      <th>Text</th>\n",
       "    </tr>\n",
       "  </thead>\n",
       "  <tbody>\n",
       "    <tr>\n",
       "      <th>0</th>\n",
       "      <td>health official across ontario ottawa prepare ...</td>\n",
       "    </tr>\n",
       "    <tr>\n",
       "      <th>1</th>\n",
       "      <td>government think slow</td>\n",
       "    </tr>\n",
       "    <tr>\n",
       "      <th>2</th>\n",
       "      <td>coronavirus continue spread death toll what no...</td>\n",
       "    </tr>\n",
       "    <tr>\n",
       "      <th>3</th>\n",
       "      <td>more people wonder why coronavirus release pub...</td>\n",
       "    </tr>\n",
       "    <tr>\n",
       "      <th>4</th>\n",
       "      <td>link ontario dedicate webpage fill with inform...</td>\n",
       "    </tr>\n",
       "  </tbody>\n",
       "</table>\n",
       "</div>"
      ],
      "text/plain": [
       "                                                Text\n",
       "0  health official across ontario ottawa prepare ...\n",
       "1                              government think slow\n",
       "2  coronavirus continue spread death toll what no...\n",
       "3  more people wonder why coronavirus release pub...\n",
       "4  link ontario dedicate webpage fill with inform..."
      ]
     },
     "execution_count": 35,
     "metadata": {},
     "output_type": "execute_result"
    }
   ],
   "source": [
    "embedding_data.columns = [text_col]\n",
    "embedding_data.head()"
   ]
  },
  {
   "cell_type": "markdown",
   "id": "6741ce06",
   "metadata": {
    "id": "6741ce06"
   },
   "source": [
    "## Data Preparation\n",
    "\n",
    "We already did data cleaning in a separate file which include several cleaning operations."
   ]
  },
  {
   "cell_type": "code",
   "execution_count": 36,
   "id": "a0276008",
   "metadata": {
    "executionInfo": {
     "elapsed": 10,
     "status": "ok",
     "timestamp": 1678558193140,
     "user": {
      "displayName": "Faraj Lagum",
      "userId": "01113283037435065577"
     },
     "user_tz": 300
    },
    "id": "a0276008"
   },
   "outputs": [],
   "source": [
    "# Concatenate all training datasets\n",
    "\n",
    "training_data = pd.concat(\n",
    "    [training_data_oc, training_data_quayside, training_data_covid])  # training_data_covid,\n",
    "\n",
    "# training_data = pd.concat([training_data1, training_data2])\n",
    "\n",
    "training_data.dropna(inplace=True)\n",
    "\n",
    "# X_train\n",
    "x_train = training_data[text_col]\n",
    "x_train_covid = training_data_covid[text_col]\n",
    "\n",
    "# y_train\n",
    "y_train = training_data[sentiment_col]\n",
    "y_train_covid = training_data_covid[sentiment_col]"
   ]
  },
  {
   "cell_type": "code",
   "execution_count": 37,
   "id": "84fdcb81",
   "metadata": {
    "executionInfo": {
     "elapsed": 10,
     "status": "ok",
     "timestamp": 1678558193140,
     "user": {
      "displayName": "Faraj Lagum",
      "userId": "01113283037435065577"
     },
     "user_tz": 300
    },
    "id": "84fdcb81"
   },
   "outputs": [],
   "source": [
    "testing_data.dropna(inplace=True)\n",
    "\n",
    "x_test = testing_data[text_col]\n",
    "\n",
    "y_test = testing_data[sentiment_col]"
   ]
  },
  {
   "cell_type": "code",
   "execution_count": 38,
   "id": "17fec1ec",
   "metadata": {
    "colab": {
     "base_uri": "https://localhost:8080/",
     "height": 35
    },
    "executionInfo": {
     "elapsed": 206,
     "status": "ok",
     "timestamp": 1678558193337,
     "user": {
      "displayName": "Faraj Lagum",
      "userId": "01113283037435065577"
     },
     "user_tz": 300
    },
    "id": "17fec1ec",
    "outputId": "c6175574-063f-4e1d-ff2a-addc89028cd0"
   },
   "outputs": [
    {
     "data": {
      "text/plain": [
       "'health official across ontario ottawa prepare possible spread coronavirus ctv report'"
      ]
     },
     "execution_count": 38,
     "metadata": {},
     "output_type": "execute_result"
    }
   ],
   "source": [
    "# Concatenate the text of all datasets so we can use them for Word embedding (word2vec) and tokenization. \n",
    "# The testing data will not be used in training\n",
    "\n",
    "\n",
    "x = embedding_data[text_col]\n",
    "\n",
    "word_embedding_text = pd.concat(\n",
    "    [x,  x_train, x_test], ignore_index=True)  # x_train_covid,\n",
    "\n",
    "type(word_embedding_text)\n",
    "word_embedding_text[0]\n",
    "\n",
    "# Word_embedding_text = Word_embedding_text.drop([3240, 9224])\n",
    "\n",
    "# Word_embedding_text.to_csv(data_file_location + 'Word_embedding_text.csv')"
   ]
  },
  {
   "cell_type": "code",
   "execution_count": 39,
   "id": "2b386882",
   "metadata": {
    "colab": {
     "base_uri": "https://localhost:8080/",
     "height": 35
    },
    "executionInfo": {
     "elapsed": 16,
     "status": "ok",
     "timestamp": 1678558193337,
     "user": {
      "displayName": "Faraj Lagum",
      "userId": "01113283037435065577"
     },
     "user_tz": 300
    },
    "id": "2b386882",
    "outputId": "cb7908b9-dfc1-4492-d0e8-0c2bb95873f3"
   },
   "outputs": [
    {
     "data": {
      "text/plain": [
       "'more information federal government economic response plan available read more'"
      ]
     },
     "execution_count": 39,
     "metadata": {},
     "output_type": "execute_result"
    }
   ],
   "source": [
    "# Word_embedding_text.drop([0, 1])\n",
    "\n",
    "word_embedding_text[3240]"
   ]
  },
  {
   "cell_type": "code",
   "execution_count": 40,
   "id": "94802335",
   "metadata": {
    "executionInfo": {
     "elapsed": 14,
     "status": "ok",
     "timestamp": 1678558193338,
     "user": {
      "displayName": "Faraj Lagum",
      "userId": "01113283037435065577"
     },
     "user_tz": 300
    },
    "id": "94802335"
   },
   "outputs": [],
   "source": [
    "# Word_embedding_text.head()"
   ]
  },
  {
   "cell_type": "markdown",
   "id": "b4ec257b",
   "metadata": {
    "id": "b4ec257b"
   },
   "source": [
    "### Word2Vec\n",
    "We will train two Word2Vec models using Continuous Bag Of Words (CBOW) and Skip Gram models. For each model, each word has a vector size of 100. So, the vector representation of each word has a dimension of 200."
   ]
  },
  {
   "cell_type": "code",
   "execution_count": 41,
   "id": "bc1b1056",
   "metadata": {
    "executionInfo": {
     "elapsed": 14,
     "status": "ok",
     "timestamp": 1678558193338,
     "user": {
      "displayName": "Faraj Lagum",
      "userId": "01113283037435065577"
     },
     "user_tz": 300
    },
    "id": "bc1b1056"
   },
   "outputs": [],
   "source": [
    "#!pip install -U gensim\n",
    "# super_data.CleanText=super_data.CleanText.astype(str) # Prevent pandas form automatically converts input to float"
   ]
  },
  {
   "cell_type": "code",
   "execution_count": 42,
   "id": "988406f7",
   "metadata": {
    "executionInfo": {
     "elapsed": 14,
     "status": "ok",
     "timestamp": 1678558193339,
     "user": {
      "displayName": "Faraj Lagum",
      "userId": "01113283037435065577"
     },
     "user_tz": 300
    },
    "id": "988406f7"
   },
   "outputs": [],
   "source": [
    "\n",
    "\n",
    "def labelize_documents(docs):\n",
    "    labelized_docs = []\n",
    "    for ind, doc in zip(docs.index, docs):\n",
    "        labelized_docs.append(TaggedDocument(\n",
    "            doc.split(), [\"doc_id\" + '_%s' % ind]))\n",
    "    return labelized_docs\n",
    "\n",
    "\n",
    "# all_x = pd.concat([x_train, x_test])\n",
    "text_doc_id = labelize_documents(word_embedding_text)"
   ]
  },
  {
   "cell_type": "code",
   "execution_count": 43,
   "id": "3154b7ac",
   "metadata": {
    "colab": {
     "base_uri": "https://localhost:8080/"
    },
    "executionInfo": {
     "elapsed": 13,
     "status": "ok",
     "timestamp": 1678558193339,
     "user": {
      "displayName": "Faraj Lagum",
      "userId": "01113283037435065577"
     },
     "user_tz": 300
    },
    "id": "3154b7ac",
    "outputId": "1a9ccc8c-17da-48ff-8bc6-d8a27e225469"
   },
   "outputs": [
    {
     "data": {
      "text/plain": [
       "['health',\n",
       " 'official',\n",
       " 'across',\n",
       " 'ontario',\n",
       " 'ottawa',\n",
       " 'prepare',\n",
       " 'possible',\n",
       " 'spread',\n",
       " 'coronavirus',\n",
       " 'ctv',\n",
       " 'report']"
      ]
     },
     "execution_count": 43,
     "metadata": {},
     "output_type": "execute_result"
    }
   ],
   "source": [
    "text_doc_id[0][0]"
   ]
  },
  {
   "cell_type": "markdown",
   "id": "b0ee3a10",
   "metadata": {
    "id": "b0ee3a10"
   },
   "source": [
    "### CBOW"
   ]
  },
  {
   "cell_type": "code",
   "execution_count": 44,
   "id": "39faf5b2",
   "metadata": {
    "colab": {
     "base_uri": "https://localhost:8080/"
    },
    "executionInfo": {
     "elapsed": 460,
     "status": "ok",
     "timestamp": 1678558193790,
     "user": {
      "displayName": "Faraj Lagum",
      "userId": "01113283037435065577"
     },
     "user_tz": 300
    },
    "id": "39faf5b2",
    "outputId": "ffc52ebe-80f8-49a2-aa34-c7a4d9a177d4"
   },
   "outputs": [
    {
     "name": "stderr",
     "output_type": "stream",
     "text": [
      "100%|██████████████████████████████████████████████████████████████████████████████████████████████| 16893/16893 [00:00<00:00, 2166469.27it/s]\n"
     ]
    }
   ],
   "source": [
    "# CBOW\n",
    "cores = multiprocessing.cpu_count()\n",
    "# Continuous Bag Of Words\n",
    "model_cbow = Word2Vec(sg=0, vector_size=100, negative=20, window=5,\n",
    "                      min_count=2, workers=cores, alpha=0.065, min_alpha=0.065)\n",
    "# sg ({0, 1}, optional) – Training algorithm: 1 for skip-gram; otherwise CBOW.\n",
    "# size/vector_size (int, optional) – Dimensionality of the word vectors.\n",
    "# window (int, optional) – Maximum distance between the current and predicted word within a sentence.\n",
    "# min_count (int, optional) – Ignores all words with total frequency lower than this.\n",
    "# workers (int, optional) – Use these many worker threads to train the model (=faster training with multicore machines).\n",
    "# negative (int, optional) – If > 0, negative sampling will be used, the int for negative specifies how many “noise words” should be drawn (usually between 5-20). If set to 0, no negative sampling is used..The paper says that selecting 5-20 words works well for smaller datasets, and you can get away with only 2-5 words for large datasets.\n",
    "# alpha (float, optional) – The initial learning rate.\n",
    "# min_alpha (float, optional) – Learning rate will linearly drop to min_alpha as training progresses.\n",
    "\n",
    "# build_vocab: Build vocabulary from a sequence of sentences\n",
    "model_cbow.build_vocab([x.words for x in tqdm(text_doc_id)])"
   ]
  },
  {
   "cell_type": "code",
   "execution_count": 45,
   "id": "4ac3817e",
   "metadata": {
    "colab": {
     "base_uri": "https://localhost:8080/"
    },
    "executionInfo": {
     "elapsed": 14,
     "status": "ok",
     "timestamp": 1678558193791,
     "user": {
      "displayName": "Faraj Lagum",
      "userId": "01113283037435065577"
     },
     "user_tz": 300
    },
    "id": "4ac3817e",
    "outputId": "1d47e995-b570-4eb6-f2cc-0a22b568f55c"
   },
   "outputs": [
    {
     "data": {
      "text/plain": [
       "8"
      ]
     },
     "execution_count": 45,
     "metadata": {},
     "output_type": "execute_result"
    }
   ],
   "source": [
    "cores"
   ]
  },
  {
   "cell_type": "markdown",
   "id": "e0f664d7",
   "metadata": {},
   "source": [
    "`train`: Update the model’s neural weights from a sequence of sentences.\n",
    " total_examples (int) – Count of sentences.\n",
    "`total_words` (int) – Count of raw words in sentences.\n",
    "`epochs` (int) – Number of iterations (epochs) over the corpus.\n",
    "`start_alpha` (float, optional) – Initial learning rate. If supplied, replaces the starting alpha from the constructor, for this one call to`train()`. Use only if making multiple calls to train(), when you want to manage the alpha learning-rate yourself (not recommended).\n",
    "`end_alpha` (float, optional) – Final learning rate. Drops linearly from start_alpha. If supplied, this replaces the final `min_alpha` from the constructor, for this one call to train(). Use only if making multiple calls to train(), when you want to manage the alpha learning-rate yourself (not recommended).\n",
    "`word_count` (int, optional) – Count of words already trained. Set this to 0 for the usual case of training on all words in sentences.\n",
    "`queue_factor` (int, optional) – Multiplier for size of queue (number of workers * queue_factor).\n",
    "`report_delay` (float, optional) – Seconds to wait before reporting progress."
   ]
  },
  {
   "cell_type": "code",
   "execution_count": 46,
   "id": "6677e365",
   "metadata": {
    "colab": {
     "base_uri": "https://localhost:8080/"
    },
    "executionInfo": {
     "elapsed": 21234,
     "status": "ok",
     "timestamp": 1678558215019,
     "user": {
      "displayName": "Faraj Lagum",
      "userId": "01113283037435065577"
     },
     "user_tz": 300
    },
    "id": "6677e365",
    "outputId": "4346b21d-5d7a-440f-ff70-0a92ae6eac16"
   },
   "outputs": [
    {
     "name": "stdout",
     "output_type": "stream",
     "text": [
      "CPU times: user 17.6 s, sys: 545 ms, total: 18.1 s\n",
      "Wall time: 3.71 s\n"
     ]
    }
   ],
   "source": [
    "%%time\n",
    "for iteration in range(15):\n",
    "    model_cbow.train(utils.shuffle([x.words for x in text_doc_id]), total_examples=len(\n",
    "        text_doc_id), epochs=1)  # tqdm(text_doc_id)\n",
    "    model_cbow.alpha -= 0.002\n",
    "    model_cbow.min_alpha = model_cbow.alpha"
   ]
  },
  {
   "cell_type": "markdown",
   "id": "8e8dc333",
   "metadata": {
    "id": "8e8dc333"
   },
   "source": [
    "### Skip Gram"
   ]
  },
  {
   "cell_type": "code",
   "execution_count": 47,
   "id": "c3061562",
   "metadata": {
    "colab": {
     "base_uri": "https://localhost:8080/"
    },
    "executionInfo": {
     "elapsed": 265,
     "status": "ok",
     "timestamp": 1678558215263,
     "user": {
      "displayName": "Faraj Lagum",
      "userId": "01113283037435065577"
     },
     "user_tz": 300
    },
    "id": "c3061562",
    "outputId": "9f1fa781-4975-4ea6-8d08-f0d71bed9dc8"
   },
   "outputs": [
    {
     "name": "stderr",
     "output_type": "stream",
     "text": [
      "100%|█████████████████████████████████████████████████████████████████| 16893/16893 [00:00<00:00, 1706553.08it/s]\n"
     ]
    }
   ],
   "source": [
    "# Skip Gram\n",
    "model_skip_gram = Word2Vec(sg=1, vector_size=100, negative=20,\n",
    "                           window=5, min_count=2, workers=cores, alpha=0.02)\n",
    "model_skip_gram.build_vocab([x.words for x in tqdm(text_doc_id)])"
   ]
  },
  {
   "cell_type": "code",
   "execution_count": 48,
   "id": "6f8895e9",
   "metadata": {
    "colab": {
     "base_uri": "https://localhost:8080/"
    },
    "executionInfo": {
     "elapsed": 39117,
     "status": "ok",
     "timestamp": 1678558254375,
     "user": {
      "displayName": "Faraj Lagum",
      "userId": "01113283037435065577"
     },
     "user_tz": 300
    },
    "id": "6f8895e9",
    "outputId": "d0607ded-7961-4679-9cea-808b841fcd9d"
   },
   "outputs": [
    {
     "name": "stdout",
     "output_type": "stream",
     "text": [
      "CPU times: user 53.8 s, sys: 230 ms, total: 54 s\n",
      "Wall time: 8.41 s\n"
     ]
    }
   ],
   "source": [
    "%%time\n",
    "for epoch in range(15):\n",
    "    model_skip_gram.train(utils.shuffle([x.words for x in\n",
    "                                         text_doc_id]), total_examples=len(text_doc_id), epochs=1)  # tqdm(text_doc_id)\n",
    "    model_skip_gram.alpha -= 0.002\n",
    "    # print(model_ug_sg.alpha)\n",
    "    model_skip_gram.min_alpha = model_skip_gram.alpha"
   ]
  },
  {
   "cell_type": "markdown",
   "id": "2a588c95",
   "metadata": {
    "id": "2a588c95"
   },
   "source": [
    "### Embeddings with CBOW and Skip-Gram"
   ]
  },
  {
   "cell_type": "code",
   "execution_count": 49,
   "id": "3f57b28e",
   "metadata": {
    "colab": {
     "base_uri": "https://localhost:8080/"
    },
    "executionInfo": {
     "elapsed": 25,
     "status": "ok",
     "timestamp": 1678558254376,
     "user": {
      "displayName": "Faraj Lagum",
      "userId": "01113283037435065577"
     },
     "user_tz": 300
    },
    "id": "3f57b28e",
    "outputId": "577cb74f-f398-41b9-f80e-e0617db2963d"
   },
   "outputs": [
    {
     "name": "stdout",
     "output_type": "stream",
     "text": [
      "Found 6833 word vectors.\n"
     ]
    }
   ],
   "source": [
    "\n",
    "embeddings_index = {}\n",
    "for w in model_cbow.wv.key_to_index.keys():\n",
    "    embeddings_index[w] = np.append(model_cbow.wv[w], model_skip_gram.wv[w])\n",
    "print('Found %s word vectors.' % len(embeddings_index))\n",
    "# embeddings_index"
   ]
  },
  {
   "cell_type": "markdown",
   "id": "ddd0ba26",
   "metadata": {
    "id": "ddd0ba26"
   },
   "source": [
    "### Tokenizer\n",
    "\n",
    "We build the the tokenizer and save it to be used later.\n"
   ]
  },
  {
   "cell_type": "code",
   "execution_count": 50,
   "id": "c564bce3",
   "metadata": {
    "executionInfo": {
     "elapsed": 20,
     "status": "ok",
     "timestamp": 1678558254376,
     "user": {
      "displayName": "Faraj Lagum",
      "userId": "01113283037435065577"
     },
     "user_tz": 300
    },
    "id": "c564bce3"
   },
   "outputs": [],
   "source": [
    "#!pip install tensorflow\n",
    "#!pip install keras\n",
    "\n",
    "\n",
    "MAX_WORDS = 60000\n",
    "# num_words = MAX_WORDS ; num_words = None\n",
    "tokenizer = Tokenizer(num_words=MAX_WORDS)\n",
    "tokenizer.fit_on_texts(word_embedding_text)\n",
    "\n",
    "x_train_seq = tokenizer.texts_to_sequences(x_train)\n",
    "x_train_covid_seq = tokenizer.texts_to_sequences(x_train_covid)\n",
    "\n",
    "x_test_seq = tokenizer.texts_to_sequences(x_test)\n",
    "\n",
    "# saving tokenizer\n",
    "with open(tokenizer_path, 'wb') as handle:\n",
    "    pickle.dump(tokenizer, handle, protocol=pickle.HIGHEST_PROTOCOL)"
   ]
  },
  {
   "cell_type": "markdown",
   "id": "3b43bbc5",
   "metadata": {
    "id": "3b43bbc5"
   },
   "source": [
    "### Encoding the data\n",
    "\n",
    "We use one-hot encoding, also called categorical encoding. It is widely used for categorical data.\n"
   ]
  },
  {
   "cell_type": "code",
   "execution_count": 51,
   "id": "8b432faf",
   "metadata": {
    "executionInfo": {
     "elapsed": 20,
     "status": "ok",
     "timestamp": 1678558254376,
     "user": {
      "displayName": "Faraj Lagum",
      "userId": "01113283037435065577"
     },
     "user_tz": 300
    },
    "id": "8b432faf"
   },
   "outputs": [],
   "source": [
    "\n",
    "y_train_labels = to_categorical(y_train)\n",
    "y_train_covid_labels = to_categorical(y_train_covid)\n",
    "\n",
    "y_test_labels = to_categorical(y_test)"
   ]
  },
  {
   "cell_type": "code",
   "execution_count": 52,
   "id": "694d79d4",
   "metadata": {
    "colab": {
     "base_uri": "https://localhost:8080/"
    },
    "executionInfo": {
     "elapsed": 20,
     "status": "ok",
     "timestamp": 1678558254377,
     "user": {
      "displayName": "Faraj Lagum",
      "userId": "01113283037435065577"
     },
     "user_tz": 300
    },
    "id": "694d79d4",
    "outputId": "5b529a07-0249-47ab-8525-6f60ae0ea406"
   },
   "outputs": [
    {
     "data": {
      "text/plain": [
       "array([1., 0.], dtype=float32)"
      ]
     },
     "execution_count": 52,
     "metadata": {},
     "output_type": "execute_result"
    }
   ],
   "source": [
    "y_train_labels[2]"
   ]
  },
  {
   "cell_type": "markdown",
   "id": "8241f009",
   "metadata": {
    "id": "8241f009"
   },
   "source": [
    "### Sequence Padding\n",
    "``pad_sequences`` is used to ensure that all sequences in a list have the same length. By default (``maxlen=None``) this is done by padding 0 in the beginning of each sequence until each sequence has the same length as the longest sequence."
   ]
  },
  {
   "cell_type": "code",
   "execution_count": 53,
   "id": "1cf1cc72",
   "metadata": {
    "executionInfo": {
     "elapsed": 18,
     "status": "ok",
     "timestamp": 1678558254377,
     "user": {
      "displayName": "Faraj Lagum",
      "userId": "01113283037435065577"
     },
     "user_tz": 300
    },
    "id": "1cf1cc72"
   },
   "outputs": [],
   "source": [
    "# from keras.preprocessing.sequence import pad_sequences\n",
    "\n",
    "# pad_sequences = \"\"\n",
    "# from keras.utils import Sequence\n",
    "MAX_LENGTH = 40   # the maximum length of words per tweet.\n",
    "\n",
    "x_train_padded = pad_sequences(x_train_seq, maxlen=MAX_LENGTH)  # maxlen=MAXLEN\n",
    "y_train_covid_padded = pad_sequences(\n",
    "    x_train_covid_seq, maxlen=MAX_LENGTH)  # maxlen=MAXLEN\n",
    "\n",
    "x_test_padded = pad_sequences(x_test_seq, maxlen=MAX_LENGTH)\n",
    "\n",
    "\n",
    "# len(padded_test[0])\n",
    "# padded_test[0]"
   ]
  },
  {
   "cell_type": "code",
   "execution_count": 54,
   "id": "c71ccf9c",
   "metadata": {
    "executionInfo": {
     "elapsed": 18,
     "status": "ok",
     "timestamp": 1678558254377,
     "user": {
      "displayName": "Faraj Lagum",
      "userId": "01113283037435065577"
     },
     "user_tz": 300
    },
    "id": "c71ccf9c"
   },
   "outputs": [],
   "source": [
    "embed_size = 200\n",
    "\n",
    "# maximum number of words kept after tokenization based on their word frequency\n",
    "embed_matrix = np.zeros((MAX_WORDS, embed_size))\n",
    "for word, i in tokenizer.word_index.items():\n",
    "    if i >= MAX_WORDS:\n",
    "        continue\n",
    "    embed_vector = embeddings_index.get(word)\n",
    "    if embed_vector is not None:\n",
    "        embed_matrix[i] = embed_vector"
   ]
  },
  {
   "cell_type": "code",
   "execution_count": 55,
   "id": "5eaf6bbb",
   "metadata": {
    "executionInfo": {
     "elapsed": 18,
     "status": "ok",
     "timestamp": 1678558254378,
     "user": {
      "displayName": "Faraj Lagum",
      "userId": "01113283037435065577"
     },
     "user_tz": 300
    },
    "id": "5eaf6bbb"
   },
   "outputs": [
    {
     "name": "stderr",
     "output_type": "stream",
     "text": [
      "2023-03-12 17:06:48.011394: W tensorflow/compiler/xla/stream_executor/platform/default/dso_loader.cc:64] Could not load dynamic library 'libcuda.so.1'; dlerror: libcuda.so.1: cannot open shared object file: No such file or directory\n",
      "2023-03-12 17:06:48.011453: W tensorflow/compiler/xla/stream_executor/cuda/cuda_driver.cc:265] failed call to cuInit: UNKNOWN ERROR (303)\n",
      "2023-03-12 17:06:48.011487: I tensorflow/compiler/xla/stream_executor/cuda/cuda_diagnostics.cc:156] kernel driver does not appear to be running on this host (IoT): /proc/driver/nvidia/version does not exist\n",
      "2023-03-12 17:06:48.011725: I tensorflow/core/platform/cpu_feature_guard.cc:193] This TensorFlow binary is optimized with oneAPI Deep Neural Network Library (oneDNN) to use the following CPU instructions in performance-critical operations:  AVX2 FMA\n",
      "To enable them in other operations, rebuild TensorFlow with the appropriate compiler flags.\n"
     ]
    }
   ],
   "source": [
    "\n",
    "\n",
    "my_metrics = [ms.Precision(thresholds=0.5),\n",
    "              ms.Recall(thresholds=0.5), ms.CategoricalAccuracy(), ms.AUC()]\n",
    "\n",
    "\n",
    "def get_model(my_metrics):\n",
    "    # Input layer:\n",
    "    inpt = Input(shape=(MAX_LENGTH, ))\n",
    "    # Emnedding Layer:\n",
    "    layer = Embedding(MAX_WORDS, 200, weights=[\n",
    "                      embed_matrix], input_length=MAX_LENGTH, trainable=True)(inpt)\n",
    "    # Spatial dropout layer I:\n",
    "    layer = SpatialDropout1D(0.3)(layer)\n",
    "    # Bidirectional RNN (GRU) layer:\n",
    "    layer = Bidirectional(GRU(100, return_sequences=True))(layer)\n",
    "    # Convolutional layer:\n",
    "    layer = Conv1D(128, kernel_size=2, padding=\"valid\",\n",
    "                   kernel_initializer=\"he_uniform\")(layer)\n",
    "    #  Pooling layers:\n",
    "    avg_pool = GlobalAveragePooling1D()(layer)\n",
    "    max_pool = GlobalMaxPooling1D()(layer)\n",
    "    conc = concatenate([avg_pool, max_pool])\n",
    "    # Dropout layer II:\n",
    "    conc = Dropout(0.3)(conc)\n",
    "    # DNN layer:\n",
    "    den_layer = Dense(64, activation='relu')(conc)\n",
    "    outp = Dense(num_classes, activation=\"softmax\")(\n",
    "        den_layer)  # sigmoid; softmax\n",
    "    # Complete model\n",
    "    model = Model(inputs=inpt, outputs=outp)\n",
    "    # Defining the loss function, optimozer, and metrics\n",
    "    model.compile(loss='categorical_crossentropy', optimizer=tf.keras.optimizers.Nadam(\n",
    "        learning_rate=0.001), metrics=my_metrics)  # Adam, Nadam, SGD, Adamax\n",
    "    return model"
   ]
  },
  {
   "cell_type": "code",
   "execution_count": 56,
   "id": "4fa6ff42",
   "metadata": {
    "executionInfo": {
     "elapsed": 18,
     "status": "ok",
     "timestamp": 1678558254378,
     "user": {
      "displayName": "Faraj Lagum",
      "userId": "01113283037435065577"
     },
     "user_tz": 300
    },
    "id": "4fa6ff42"
   },
   "outputs": [],
   "source": [
    "\n",
    "\n",
    "def get_model_b():\n",
    "    # Input layer:\n",
    "    inpt = Input(shape=(MAX_LENGTH, ))\n",
    "    # Emnedding Layer:\n",
    "    layer = Embedding(MAX_WORDS, 200, weights=[\n",
    "                      embed_matrix], input_length=MAX_LENGTH, trainable=True)(inpt)\n",
    "\n",
    "    # Convolutional layer:\n",
    "    layer = Conv1D(128, kernel_size=2, padding=\"valid\",\n",
    "                   kernel_initializer=\"he_uniform\")(layer)\n",
    "    # layer = Flatten()(layer)\n",
    "    # Spatial dropout layer I:\n",
    "    layer = Dropout(0.3)(layer)\n",
    "\n",
    "    # Bidirectional RNN (GRU) layer:\n",
    "    layer = Bidirectional(GRU(100, return_sequences=True))(layer)\n",
    "    #  Pooling layers:\n",
    "    avg_pool = GlobalAveragePooling1D()(layer)\n",
    "    max_pool = GlobalMaxPooling1D()(layer)\n",
    "    conc = concatenate([avg_pool, max_pool])\n",
    "    # Dropout layer II:\n",
    "    conc = Dropout(0.3)(conc)\n",
    "    # DNN layer:\n",
    "    den_layer = Dense(64, activation='relu')(conc)\n",
    "    outp = Dense(num_classes, activation=\"softmax\")(\n",
    "        den_layer)  # sigmoid; softmax\n",
    "    # Complete model\n",
    "    model = Model(inputs=inpt, outputs=outp)\n",
    "    # Defining the loss function, optimozer, and metrics\n",
    "    model.compile(loss='categorical_crossentropy', optimizer=tf.keras.optimizers.Nadam(\n",
    "        learning_rate=0.001), metrics=[tf.keras.metrics.Precision(thresholds=0.4),\n",
    "                                       tf.keras.metrics.Recall(thresholds=0.4), tf.keras.metrics.CategoricalAccuracy(), tf.keras.metrics.AUC()])  # Adam, Nadam, SGD,  ['categorical_accuracy']\n",
    "    return model"
   ]
  },
  {
   "cell_type": "code",
   "execution_count": 57,
   "id": "d5a0b506",
   "metadata": {
    "executionInfo": {
     "elapsed": 19,
     "status": "ok",
     "timestamp": 1678558254379,
     "user": {
      "displayName": "Faraj Lagum",
      "userId": "01113283037435065577"
     },
     "user_tz": 300
    },
    "id": "d5a0b506"
   },
   "outputs": [],
   "source": [
    "\n",
    "\n",
    "def get_model4():\n",
    "    # Input layer:\n",
    "    inpt = Input(shape=(MAX_LENGTH, ))\n",
    "    # Emnedding Layer:\n",
    "    layer = Embedding(MAX_WORDS, 200, weights=[\n",
    "                      embed_matrix], input_length=MAX_LENGTH, trainable=True)(inpt)\n",
    "\n",
    "    # Bidirectional RNN (GRU) layer:\n",
    "    layer = Bidirectional(GRU(100, return_sequences=True))(layer)\n",
    "    # Convolutional layer:\n",
    "    layer = Conv1D(128, kernel_size=2, padding=\"valid\",\n",
    "                   kernel_initializer=\"he_uniform\")(layer)\n",
    "    #  Pooling layers:\n",
    "    avg_pool = GlobalAveragePooling1D()(layer)\n",
    "    # max_pool = GlobalMaxPooling1D()(layer)\n",
    "   # conc = concatenate([avg_pool, max_pool])\n",
    "\n",
    "    # DNN layer:\n",
    "    # den_layer = Dense(64, activation='relu')(conc)\n",
    "    outp = Dense(num_classes, activation=\"softmax\")(\n",
    "        avg_pool)  # sigmoid; softmax\n",
    "    # Complete model\n",
    "    model = Model(inputs=inpt, outputs=outp)\n",
    "    # Defining the loss function, optimozer, and metrics\n",
    "    model.compile(loss='categorical_crossentropy', optimizer=Adam(\n",
    "        lr=0.001), metrics=['categorical_accuracy'])  # categorical_crossentropy\n",
    "    return model"
   ]
  },
  {
   "cell_type": "code",
   "execution_count": 58,
   "id": "92d51901",
   "metadata": {
    "executionInfo": {
     "elapsed": 19,
     "status": "ok",
     "timestamp": 1678558254379,
     "user": {
      "displayName": "Faraj Lagum",
      "userId": "01113283037435065577"
     },
     "user_tz": 300
    },
    "id": "92d51901"
   },
   "outputs": [],
   "source": [
    "def get_model1():\n",
    "    # Input layer:\n",
    "    inpt = Input(shape=(MAX_LENGTH, ))\n",
    "    # Emnedding Layer:\n",
    "    # layer = Embedding(MAX_WORDS, 200, weights=[embed_matrix], input_length=MAXLEN, trainable=True)(inpt)\n",
    "\n",
    "    outp = Dense(num_classes, activation=\"softmax\")(inpt)  # sigmoid; softmax\n",
    "    # Complete model\n",
    "    model = Model(inputs=inpt, outputs=outp)\n",
    "    # Defining the loss function, optimozer, and metrics\n",
    "    model.compile(loss='categorical_crossentropy', optimizer=Adam(\n",
    "        lr=0.001), metrics=['categorical_accuracy'])  # categorical_crossentropy\n",
    "    return model"
   ]
  },
  {
   "cell_type": "code",
   "execution_count": 59,
   "id": "616d546a",
   "metadata": {
    "executionInfo": {
     "elapsed": 18,
     "status": "ok",
     "timestamp": 1678558254379,
     "user": {
      "displayName": "Faraj Lagum",
      "userId": "01113283037435065577"
     },
     "user_tz": 300
    },
    "id": "616d546a"
   },
   "outputs": [],
   "source": [
    "def get_model2():\n",
    "    # Input layer:\n",
    "    inpt = Input(shape=(MAX_LENGTH, ))\n",
    "    # Emnedding Layer:\n",
    "    layer = Embedding(MAX_WORDS, 200, weights=[\n",
    "                      embed_matrix], input_length=MAX_LENGTH, trainable=True)(inpt)\n",
    "    # Spatial dropout layer I:\n",
    "    # layer = SpatialDropout1D(0.3)(layer)\n",
    "    # Bidirectional RNN (GRU) layer:\n",
    "    # layer = Bidirectional(GRU(100, return_sequences=True))(layer)\n",
    "    # Convolutional layer:\n",
    "    layer = Conv1D(128, kernel_size=2, padding=\"valid\",\n",
    "                   kernel_initializer=\"he_uniform\")(layer)\n",
    "    #  Pooling layers:\n",
    "    avg_pool = GlobalAveragePooling1D()(layer)\n",
    "    # max_pool = GlobalMaxPooling1D()(layer)\n",
    "    # conc = concatenate([avg_pool, max_pool])\n",
    "    # Spatial dropout layer II:\n",
    "    # conc = Dropout(0.3)(conc)\n",
    "    # DNN layer:\n",
    "    # den_layer = Dense(64, activation='relu')(conc)\n",
    "    outp = Dense(num_classes, activation=\"softmax\")(\n",
    "        avg_pool)  # sigmoid; softmax\n",
    "    # Complete model\n",
    "    model = Model(inputs=inpt, outputs=outp)\n",
    "    # Defining the loss function, optimozer, and metrics\n",
    "    model.compile(loss='categorical_crossentropy', optimizer=tf.keras.optimizers.Adam(\n",
    "        lr=0.001), metrics=['categorical_accuracy'])  # categorical_crossentropy\n",
    "    return model"
   ]
  },
  {
   "cell_type": "code",
   "execution_count": 60,
   "id": "63d58b70",
   "metadata": {
    "executionInfo": {
     "elapsed": 2196,
     "status": "ok",
     "timestamp": 1678558256557,
     "user": {
      "displayName": "Faraj Lagum",
      "userId": "01113283037435065577"
     },
     "user_tz": 300
    },
    "id": "63d58b70"
   },
   "outputs": [],
   "source": [
    "\n",
    "# used_model = get_model_b()\n",
    "# used_model = get_LSTM_model()\n",
    "# used_model = get_CNN_LSTM_model()\n",
    "filepath = COIVD19_Best_Model_path\n",
    "\n",
    "\n",
    "# /usr/local/lib/python3.8/dist-packages/keras/optimizers/optimizer_v2/adam.py:117: UserWarning: The `lr` argument is deprecated, use `learning_rate` instead."
   ]
  },
  {
   "cell_type": "code",
   "execution_count": 61,
   "id": "CqHDX2YW2E39",
   "metadata": {
    "executionInfo": {
     "elapsed": 4510,
     "status": "ok",
     "timestamp": 1678558261063,
     "user": {
      "displayName": "Faraj Lagum",
      "userId": "01113283037435065577"
     },
     "user_tz": 300
    },
    "id": "CqHDX2YW2E39"
   },
   "outputs": [],
   "source": [
    "if \"google.colab\" in sys.modules:\n",
    "  !pip install -q -U tensorboard-plugin-profile"
   ]
  },
  {
   "cell_type": "code",
   "execution_count": 62,
   "id": "9y4_m_952Q8P",
   "metadata": {
    "executionInfo": {
     "elapsed": 12,
     "status": "ok",
     "timestamp": 1678558261064,
     "user": {
      "displayName": "Faraj Lagum",
      "userId": "01113283037435065577"
     },
     "user_tz": 300
    },
    "id": "9y4_m_952Q8P",
    "lines_to_next_cell": 2
   },
   "outputs": [],
   "source": [
    "    shutil.rmtree(\"my_logs\", ignore_errors=True)"
   ]
  },
  {
   "cell_type": "code",
   "execution_count": 63,
   "id": "8xePA3xQ2izk",
   "metadata": {
    "executionInfo": {
     "elapsed": 11,
     "status": "ok",
     "timestamp": 1678558261065,
     "user": {
      "displayName": "Faraj Lagum",
      "userId": "01113283037435065577"
     },
     "user_tz": 300
    },
    "id": "8xePA3xQ2izk"
   },
   "outputs": [],
   "source": [
    "\n",
    "\n",
    "def get_run_logdir(root_logdir=\"my_logs\"):\n",
    "    return Path(root_logdir) / strftime(\"run_%Y_%m_%d_%H_%M_%S\")\n",
    "\n",
    "# run_logdir = get_run_logdir()"
   ]
  },
  {
   "cell_type": "code",
   "execution_count": 64,
   "id": "bf94c3b2",
   "metadata": {
    "executionInfo": {
     "elapsed": 266,
     "status": "ok",
     "timestamp": 1678558261321,
     "user": {
      "displayName": "Faraj Lagum",
      "userId": "01113283037435065577"
     },
     "user_tz": 300
    },
    "id": "bf94c3b2",
    "lines_to_next_cell": 2
   },
   "outputs": [],
   "source": [
    "\n",
    "# tensorboard_cb = tf.keras.callbacks.TensorBoard(run_logdir, profile_batch=(100, 200))\n",
    "checkpoint_path = os.path.join(model_file_location, 'checkpoints',\n",
    "                               f'COVID19-best-model-{num_classes}-classes'+'.weights.epoch-{epoch:02d}-val_loss-{val_loss:.2f}-val_categorical_accuracy-{val_categorical_accuracy:.2f}.hdf5')\n",
    "\n",
    "# I want to stop using checkpoint_path to save space in gDrive\n",
    "checkpoint_path = COIVD19_Best_Model_path\n",
    "\n",
    "model_checkpoint = ModelCheckpoint(\n",
    "    checkpoint_path, monitor='val_categorical_accuracy', verbose=1, save_best_only=True, mode='max')\n",
    "\n",
    "\n",
    "early_stop_callback_1 = EarlyStopping(\n",
    "    monitor='val_loss', mode='min', min_delta=0.001, patience=5, verbose=1)\n",
    "\n",
    "early_stop_callback_2 = EarlyStopping(\n",
    "    monitor='val_categorical_accuracy', mode='max', patience=5, verbose=1)\n",
    "\n",
    "\n",
    "my_callbacks = [model_checkpoint, early_stop_callback_1,\n",
    "                early_stop_callback_2]  # , tensorboard_cb]"
   ]
  },
  {
   "cell_type": "code",
   "execution_count": 65,
   "id": "FmR5Sohi25Nc",
   "metadata": {
    "colab": {
     "base_uri": "https://localhost:8080/"
    },
    "executionInfo": {
     "elapsed": 43453,
     "status": "ok",
     "timestamp": 1678558304771,
     "user": {
      "displayName": "Faraj Lagum",
      "userId": "01113283037435065577"
     },
     "user_tz": 300
    },
    "id": "FmR5Sohi25Nc",
    "outputId": "c50af260-5789-402b-cc65-6fcf17332ef2"
   },
   "outputs": [
    {
     "name": "stdout",
     "output_type": "stream",
     "text": [
      "Epoch 1/20\n",
      "20/20 [==============================] - ETA: 0s - loss: 0.6633 - precision: 0.6033 - recall: 0.6033 - categorical_accuracy: 0.6033 - auc: 0.6512\n",
      "Epoch 1: val_categorical_accuracy improved from -inf to 0.68772, saving model to ./models/COVID19-Best-model-2classes_March-2023.hdf5\n",
      "20/20 [==============================] - 22s 829ms/step - loss: 0.6633 - precision: 0.6033 - recall: 0.6033 - categorical_accuracy: 0.6033 - auc: 0.6512 - val_loss: 0.5925 - val_precision: 0.6877 - val_recall: 0.6877 - val_categorical_accuracy: 0.6877 - val_auc: 0.7603\n",
      "Epoch 2/20\n",
      "20/20 [==============================] - ETA: 0s - loss: 0.4799 - precision: 0.7739 - recall: 0.7739 - categorical_accuracy: 0.7739 - auc: 0.8526\n",
      "Epoch 2: val_categorical_accuracy improved from 0.68772 to 0.78596, saving model to ./models/COVID19-Best-model-2classes_March-2023.hdf5\n",
      "20/20 [==============================] - 11s 541ms/step - loss: 0.4799 - precision: 0.7739 - recall: 0.7739 - categorical_accuracy: 0.7739 - auc: 0.8526 - val_loss: 0.5478 - val_precision: 0.7860 - val_recall: 0.7860 - val_categorical_accuracy: 0.7860 - val_auc: 0.8367\n",
      "Epoch 3/20\n",
      "20/20 [==============================] - ETA: 0s - loss: 0.3927 - precision: 0.8246 - recall: 0.8246 - categorical_accuracy: 0.8246 - auc: 0.9046\n",
      "Epoch 3: val_categorical_accuracy improved from 0.78596 to 0.80702, saving model to ./models/COVID19-Best-model-2classes_March-2023.hdf5\n",
      "20/20 [==============================] - 10s 509ms/step - loss: 0.3927 - precision: 0.8246 - recall: 0.8246 - categorical_accuracy: 0.8246 - auc: 0.9046 - val_loss: 0.5280 - val_precision: 0.8070 - val_recall: 0.8070 - val_categorical_accuracy: 0.8070 - val_auc: 0.8487\n",
      "Epoch 4/20\n",
      "20/20 [==============================] - ETA: 0s - loss: 0.3454 - precision: 0.8521 - recall: 0.8521 - categorical_accuracy: 0.8521 - auc: 0.9274\n",
      "Epoch 4: val_categorical_accuracy did not improve from 0.80702\n",
      "20/20 [==============================] - 8s 424ms/step - loss: 0.3454 - precision: 0.8521 - recall: 0.8521 - categorical_accuracy: 0.8521 - auc: 0.9274 - val_loss: 0.5352 - val_precision: 0.8070 - val_recall: 0.8070 - val_categorical_accuracy: 0.8070 - val_auc: 0.8557\n",
      "Epoch 5/20\n",
      "20/20 [==============================] - ETA: 0s - loss: 0.3157 - precision: 0.8695 - recall: 0.8695 - categorical_accuracy: 0.8695 - auc: 0.9389\n",
      "Epoch 5: val_categorical_accuracy did not improve from 0.80702\n",
      "20/20 [==============================] - 10s 485ms/step - loss: 0.3157 - precision: 0.8695 - recall: 0.8695 - categorical_accuracy: 0.8695 - auc: 0.9389 - val_loss: 0.5953 - val_precision: 0.7895 - val_recall: 0.7895 - val_categorical_accuracy: 0.7895 - val_auc: 0.8396\n",
      "Epoch 6/20\n",
      "20/20 [==============================] - ETA: 0s - loss: 0.2695 - precision: 0.8878 - recall: 0.8878 - categorical_accuracy: 0.8878 - auc: 0.9561\n",
      "Epoch 6: val_categorical_accuracy improved from 0.80702 to 0.82807, saving model to ./models/COVID19-Best-model-2classes_March-2023.hdf5\n",
      "20/20 [==============================] - 12s 592ms/step - loss: 0.2695 - precision: 0.8878 - recall: 0.8878 - categorical_accuracy: 0.8878 - auc: 0.9561 - val_loss: 0.5602 - val_precision: 0.8281 - val_recall: 0.8281 - val_categorical_accuracy: 0.8281 - val_auc: 0.8640\n",
      "Epoch 7/20\n",
      "20/20 [==============================] - ETA: 0s - loss: 0.2433 - precision: 0.9032 - recall: 0.9032 - categorical_accuracy: 0.9032 - auc: 0.9638\n",
      "Epoch 7: val_categorical_accuracy did not improve from 0.82807\n",
      "20/20 [==============================] - 9s 429ms/step - loss: 0.2433 - precision: 0.9032 - recall: 0.9032 - categorical_accuracy: 0.9032 - auc: 0.9638 - val_loss: 0.5702 - val_precision: 0.8105 - val_recall: 0.8105 - val_categorical_accuracy: 0.8105 - val_auc: 0.8623\n",
      "Epoch 8/20\n",
      "20/20 [==============================] - ETA: 0s - loss: 0.2120 - precision: 0.9165 - recall: 0.9165 - categorical_accuracy: 0.9165 - auc: 0.9723\n",
      "Epoch 8: val_categorical_accuracy did not improve from 0.82807\n",
      "20/20 [==============================] - 9s 428ms/step - loss: 0.2120 - precision: 0.9165 - recall: 0.9165 - categorical_accuracy: 0.9165 - auc: 0.9723 - val_loss: 0.5909 - val_precision: 0.8140 - val_recall: 0.8140 - val_categorical_accuracy: 0.8140 - val_auc: 0.8660\n",
      "Epoch 8: early stopping\n"
     ]
    }
   ],
   "source": [
    "\n",
    "used_model = get_model(my_metrics)\n",
    "history = used_model.fit(x=x_train_padded, y=y_train_labels, validation_data=(x_test_padded, y_test_labels), batch_size=128,\n",
    "                         callbacks=my_callbacks, epochs=20, verbose=1)"
   ]
  },
  {
   "cell_type": "code",
   "execution_count": 66,
   "id": "93Y4a7VX3EGt",
   "metadata": {
    "id": "93Y4a7VX3EGt"
   },
   "outputs": [],
   "source": [
    "# %load_ext tensorboard\n",
    "# %tensorboard --logdir=./my_logs"
   ]
  },
  {
   "cell_type": "code",
   "execution_count": 67,
   "id": "oE1Wj1g_340W",
   "metadata": {
    "colab": {
     "base_uri": "https://localhost:8080/",
     "height": 34
    },
    "executionInfo": {
     "elapsed": 167,
     "status": "ok",
     "timestamp": 1678558350804,
     "user": {
      "displayName": "Faraj Lagum",
      "userId": "01113283037435065577"
     },
     "user_tz": 300
    },
    "id": "oE1Wj1g_340W",
    "outputId": "fb686eae-ec00-4809-eefd-98fe61af5d98"
   },
   "outputs": [
    {
     "data": {
      "text/html": [
       "<a href=\"http://localhost:6006/\">http://localhost:6006/</a>"
      ],
      "text/plain": [
       "<IPython.core.display.HTML object>"
      ]
     },
     "metadata": {},
     "output_type": "display_data"
    }
   ],
   "source": [
    "# extra code\n",
    "\n",
    "if \"google.colab\" in sys.modules:\n",
    "    from google.colab import output\n",
    "\n",
    "    output.serve_kernel_port_as_window(6006)\n",
    "else:\n",
    "    from IPython.display import display, HTML\n",
    "\n",
    "    display(HTML('<a href=\"http://localhost:6006/\">http://localhost:6006/</a>'))"
   ]
  },
  {
   "cell_type": "code",
   "execution_count": 68,
   "id": "geAmI4_1z_PV",
   "metadata": {
    "executionInfo": {
     "elapsed": 10,
     "status": "ok",
     "timestamp": 1678558309480,
     "user": {
      "displayName": "Faraj Lagum",
      "userId": "01113283037435065577"
     },
     "user_tz": 300
    },
    "id": "geAmI4_1z_PV"
   },
   "outputs": [],
   "source": [
    "# freez layers\n",
    "for layer in used_model.layers[0:-1]:\n",
    "    layer.trainable = False"
   ]
  },
  {
   "cell_type": "code",
   "execution_count": 69,
   "id": "bfb1ea86",
   "metadata": {
    "colab": {
     "base_uri": "https://localhost:8080/"
    },
    "executionInfo": {
     "elapsed": 10976,
     "status": "ok",
     "timestamp": 1678558320449,
     "user": {
      "displayName": "Faraj Lagum",
      "userId": "01113283037435065577"
     },
     "user_tz": 300
    },
    "id": "bfb1ea86",
    "outputId": "304e4a2f-83d7-440f-c41f-8db2afaf36e6"
   },
   "outputs": [
    {
     "name": "stdout",
     "output_type": "stream",
     "text": [
      "Epoch 1/20\n",
      "2/3 [===================>..........] - ETA: 0s - loss: 0.1897 - precision: 0.8725 - recall: 0.8725 - categorical_accuracy: 0.8725 - auc: 0.9220\n",
      "Epoch 1: val_categorical_accuracy did not improve from 0.82807\n",
      "3/3 [==============================] - 4s 568ms/step - loss: 0.1853 - precision: 0.8782 - recall: 0.8782 - categorical_accuracy: 0.8782 - auc: 0.9275 - val_loss: 0.5861 - val_precision: 0.8105 - val_recall: 0.8105 - val_categorical_accuracy: 0.8105 - val_auc: 0.8659\n",
      "Epoch 2/20\n",
      "3/3 [==============================] - ETA: 0s - loss: 0.1666 - precision: 0.9379 - recall: 0.9379 - categorical_accuracy: 0.9379 - auc: 0.9832\n",
      "Epoch 2: val_categorical_accuracy did not improve from 0.82807\n",
      "3/3 [==============================] - 0s 99ms/step - loss: 0.1666 - precision: 0.9379 - recall: 0.9379 - categorical_accuracy: 0.9379 - auc: 0.9832 - val_loss: 0.5829 - val_precision: 0.8105 - val_recall: 0.8105 - val_categorical_accuracy: 0.8105 - val_auc: 0.8674\n",
      "Epoch 3/20\n",
      "3/3 [==============================] - ETA: 0s - loss: 0.1600 - precision: 0.9346 - recall: 0.9346 - categorical_accuracy: 0.9346 - auc: 0.9847\n",
      "Epoch 3: val_categorical_accuracy did not improve from 0.82807\n",
      "3/3 [==============================] - 0s 93ms/step - loss: 0.1600 - precision: 0.9346 - recall: 0.9346 - categorical_accuracy: 0.9346 - auc: 0.9847 - val_loss: 0.5809 - val_precision: 0.8175 - val_recall: 0.8175 - val_categorical_accuracy: 0.8175 - val_auc: 0.8676\n",
      "Epoch 4/20\n",
      "3/3 [==============================] - ETA: 0s - loss: 0.1856 - precision: 0.9248 - recall: 0.9248 - categorical_accuracy: 0.9248 - auc: 0.9791\n",
      "Epoch 4: val_categorical_accuracy did not improve from 0.82807\n",
      "3/3 [==============================] - 0s 97ms/step - loss: 0.1856 - precision: 0.9248 - recall: 0.9248 - categorical_accuracy: 0.9248 - auc: 0.9791 - val_loss: 0.5798 - val_precision: 0.8140 - val_recall: 0.8140 - val_categorical_accuracy: 0.8140 - val_auc: 0.8684\n",
      "Epoch 5/20\n",
      "3/3 [==============================] - ETA: 0s - loss: 0.1695 - precision: 0.9412 - recall: 0.9412 - categorical_accuracy: 0.9412 - auc: 0.9826\n",
      "Epoch 5: val_categorical_accuracy did not improve from 0.82807\n",
      "3/3 [==============================] - 0s 90ms/step - loss: 0.1695 - precision: 0.9412 - recall: 0.9412 - categorical_accuracy: 0.9412 - auc: 0.9826 - val_loss: 0.5794 - val_precision: 0.8070 - val_recall: 0.8070 - val_categorical_accuracy: 0.8070 - val_auc: 0.8681\n",
      "Epoch 6/20\n",
      "3/3 [==============================] - ETA: 0s - loss: 0.1408 - precision: 0.9575 - recall: 0.9575 - categorical_accuracy: 0.9575 - auc: 0.9887\n",
      "Epoch 6: val_categorical_accuracy did not improve from 0.82807\n",
      "3/3 [==============================] - 0s 103ms/step - loss: 0.1408 - precision: 0.9575 - recall: 0.9575 - categorical_accuracy: 0.9575 - auc: 0.9887 - val_loss: 0.5804 - val_precision: 0.8105 - val_recall: 0.8105 - val_categorical_accuracy: 0.8105 - val_auc: 0.8686\n",
      "Epoch 7/20\n",
      "2/3 [===================>..........] - ETA: 0s - loss: 0.1558 - precision: 0.9453 - recall: 0.9453 - categorical_accuracy: 0.9453 - auc: 0.9854\n",
      "Epoch 7: val_categorical_accuracy did not improve from 0.82807\n",
      "3/3 [==============================] - 0s 147ms/step - loss: 0.1504 - precision: 0.9477 - recall: 0.9477 - categorical_accuracy: 0.9477 - auc: 0.9866 - val_loss: 0.5821 - val_precision: 0.8105 - val_recall: 0.8105 - val_categorical_accuracy: 0.8105 - val_auc: 0.8679\n",
      "Epoch 8/20\n",
      "3/3 [==============================] - ETA: 0s - loss: 0.1613 - precision: 0.9281 - recall: 0.9281 - categorical_accuracy: 0.9281 - auc: 0.9854\n",
      "Epoch 8: val_categorical_accuracy did not improve from 0.82807\n",
      "3/3 [==============================] - 0s 103ms/step - loss: 0.1613 - precision: 0.9281 - recall: 0.9281 - categorical_accuracy: 0.9281 - auc: 0.9854 - val_loss: 0.5840 - val_precision: 0.8105 - val_recall: 0.8105 - val_categorical_accuracy: 0.8105 - val_auc: 0.8679\n",
      "Epoch 8: early stopping\n"
     ]
    }
   ],
   "source": [
    "\n",
    "for layer in used_model.layers[0:-1]:\n",
    "    layer.trainable = False\n",
    "\n",
    "used_model.compile(loss='categorical_crossentropy',\n",
    "                   optimizer=tf.keras.optimizers.Adam(\n",
    "                       learning_rate=0.001), metrics=my_metrics)  # Adam, Nadam, SGD, Adamax\n",
    "\n",
    "history = used_model.fit(x=y_train_covid_padded, y=y_train_covid_labels,\n",
    "                         validation_data=(\n",
    "                             x_test_padded, y_test_labels), batch_size=128,\n",
    "                         callbacks=my_callbacks, epochs=20, verbose=1)"
   ]
  },
  {
   "cell_type": "code",
   "execution_count": 70,
   "id": "85d8f970",
   "metadata": {
    "executionInfo": {
     "elapsed": 9,
     "status": "ok",
     "timestamp": 1678558320450,
     "user": {
      "displayName": "Faraj Lagum",
      "userId": "01113283037435065577"
     },
     "user_tz": 300
    },
    "id": "85d8f970"
   },
   "outputs": [],
   "source": [
    "# history = used_model.fit(x=padded_train, y=y_train_labels, validation_data=(padded_test, y_test_labels), batch_size=128,\n",
    "#     callbacks=my_callbacks, epochs=2, verbose=1)"
   ]
  },
  {
   "cell_type": "code",
   "execution_count": 71,
   "id": "90009656",
   "metadata": {
    "executionInfo": {
     "elapsed": 8,
     "status": "ok",
     "timestamp": 1678558320450,
     "user": {
      "displayName": "Faraj Lagum",
      "userId": "01113283037435065577"
     },
     "user_tz": 300
    },
    "id": "90009656"
   },
   "outputs": [],
   "source": [
    "# from sklearn.metrics import accuracy_score\n",
    "\n",
    "# # Predict class probabilities for test set\n",
    "# y_prob = used_model.predict(padded_test)\n",
    "\n",
    "# # Convert probabilities to class labels\n",
    "# y_pred = np.argmax(y_prob, axis=1)\n",
    "\n",
    "# # Calculate accuracy for each class\n",
    "# class_acc = []\n",
    "# for c in range(num_classes):\n",
    "#     idx = np.where(y_test_labels.argmax(axis=1) == c)[0]\n",
    "#     acc = accuracy_score(y_test_labels[idx].argmax(axis=1), y_pred[idx])\n",
    "#     class_acc.append(acc)\n",
    "\n",
    "# # Calculate weighted accuracy\n",
    "# weighted_acc = np.average(class_acc, weights=np.bincount(y_test_labels.argmax(axis=1)))\n",
    "\n",
    "# weighted_acc"
   ]
  },
  {
   "cell_type": "code",
   "execution_count": 72,
   "id": "54dc9ed9",
   "metadata": {
    "colab": {
     "base_uri": "https://localhost:8080/"
    },
    "executionInfo": {
     "elapsed": 298,
     "status": "ok",
     "timestamp": 1678558320740,
     "user": {
      "displayName": "Faraj Lagum",
      "userId": "01113283037435065577"
     },
     "user_tz": 300
    },
    "id": "54dc9ed9",
    "outputId": "a05201bd-b285-4d43-8557-bfaf2722a299"
   },
   "outputs": [
    {
     "name": "stdout",
     "output_type": "stream",
     "text": [
      "Model: \"model\"\n",
      "__________________________________________________________________________________________________\n",
      " Layer (type)                   Output Shape         Param #     Connected to                     \n",
      "==================================================================================================\n",
      " input_1 (InputLayer)           [(None, 40)]         0           []                               \n",
      "                                                                                                  \n",
      " embedding (Embedding)          (None, 40, 200)      12000000    ['input_1[0][0]']                \n",
      "                                                                                                  \n",
      " spatial_dropout1d (SpatialDrop  (None, 40, 200)     0           ['embedding[0][0]']              \n",
      " out1D)                                                                                           \n",
      "                                                                                                  \n",
      " bidirectional (Bidirectional)  (None, 40, 200)      181200      ['spatial_dropout1d[0][0]']      \n",
      "                                                                                                  \n",
      " conv1d (Conv1D)                (None, 39, 128)      51328       ['bidirectional[0][0]']          \n",
      "                                                                                                  \n",
      " global_average_pooling1d (Glob  (None, 128)         0           ['conv1d[0][0]']                 \n",
      " alAveragePooling1D)                                                                              \n",
      "                                                                                                  \n",
      " global_max_pooling1d (GlobalMa  (None, 128)         0           ['conv1d[0][0]']                 \n",
      " xPooling1D)                                                                                      \n",
      "                                                                                                  \n",
      " concatenate (Concatenate)      (None, 256)          0           ['global_average_pooling1d[0][0]'\n",
      "                                                                 , 'global_max_pooling1d[0][0]']  \n",
      "                                                                                                  \n",
      " dropout (Dropout)              (None, 256)          0           ['concatenate[0][0]']            \n",
      "                                                                                                  \n",
      " dense (Dense)                  (None, 64)           16448       ['dropout[0][0]']                \n",
      "                                                                                                  \n",
      " dense_1 (Dense)                (None, 2)            130         ['dense[0][0]']                  \n",
      "                                                                                                  \n",
      "==================================================================================================\n",
      "Total params: 12,249,106\n",
      "Trainable params: 130\n",
      "Non-trainable params: 12,248,976\n",
      "__________________________________________________________________________________________________\n"
     ]
    }
   ],
   "source": [
    "used_model.summary()"
   ]
  },
  {
   "cell_type": "code",
   "execution_count": 73,
   "id": "0812b74a",
   "metadata": {
    "colab": {
     "base_uri": "https://localhost:8080/",
     "height": 1000
    },
    "executionInfo": {
     "elapsed": 706,
     "status": "ok",
     "timestamp": 1678558321444,
     "user": {
      "displayName": "Faraj Lagum",
      "userId": "01113283037435065577"
     },
     "user_tz": 300
    },
    "id": "0812b74a",
    "outputId": "a2522172-694c-4d3e-cbd2-0825aed6e3ef"
   },
   "outputs": [
    {
     "name": "stdout",
     "output_type": "stream",
     "text": [
      "You must install pydot (`pip install pydot`) and install graphviz (see instructions at https://graphviz.gitlab.io/download/) for plot_model to work.\n"
     ]
    }
   ],
   "source": [
    "\n",
    "plot_model(used_model, to_file='model_plot.png',\n",
    "           show_shapes=True, show_layer_names=True)"
   ]
  },
  {
   "cell_type": "code",
   "execution_count": 74,
   "id": "06f6735d",
   "metadata": {
    "executionInfo": {
     "elapsed": 33,
     "status": "ok",
     "timestamp": 1678558321446,
     "user": {
      "displayName": "Faraj Lagum",
      "userId": "01113283037435065577"
     },
     "user_tz": 300
    },
    "id": "06f6735d"
   },
   "outputs": [],
   "source": [
    "#!pip install pydot"
   ]
  },
  {
   "cell_type": "code",
   "execution_count": 75,
   "id": "a19fda35",
   "metadata": {
    "executionInfo": {
     "elapsed": 33,
     "status": "ok",
     "timestamp": 1678558321447,
     "user": {
      "displayName": "Faraj Lagum",
      "userId": "01113283037435065577"
     },
     "user_tz": 300
    },
    "id": "a19fda35"
   },
   "outputs": [],
   "source": [
    "# used_model = get_model_s()\n",
    "\n",
    "\n",
    "# history = used_model.fit(x=padded_train, y=y_train_labels, validation_data=(padded_test, y_test_labels), batch_size=128,\n",
    "#     callbacks=my_callbacks, epochs=20, verbose=1)"
   ]
  },
  {
   "cell_type": "code",
   "execution_count": 76,
   "id": "9265394f",
   "metadata": {
    "executionInfo": {
     "elapsed": 31,
     "status": "ok",
     "timestamp": 1678558321447,
     "user": {
      "displayName": "Faraj Lagum",
      "userId": "01113283037435065577"
     },
     "user_tz": 300
    },
    "id": "9265394f"
   },
   "outputs": [],
   "source": [
    "# used_model.add(Dense(3, activation=\"softmax\"))\n",
    "\n",
    "# last_layer = used_model.get_layer(index=-1)\n",
    "# last_layer.units = 1\n",
    "\n",
    "# last_layer.output_shape"
   ]
  },
  {
   "cell_type": "code",
   "execution_count": 77,
   "id": "7343e38d",
   "metadata": {
    "executionInfo": {
     "elapsed": 31,
     "status": "ok",
     "timestamp": 1678558321448,
     "user": {
      "displayName": "Faraj Lagum",
      "userId": "01113283037435065577"
     },
     "user_tz": 300
    },
    "id": "7343e38d"
   },
   "outputs": [],
   "source": [
    "def create_model(num_layers=1, num_units=100, activation='relu', optimizer='nadam', kernel_initializer='glorot_uniform'):\n",
    "    # Input layer:\n",
    "    inpt = Input(shape=(MAX_LENGTH, ))\n",
    "    # Emnedding Layer:\n",
    "    layer = Embedding(MAX_WORDS, 200, weights=[\n",
    "                      embed_matrix], input_length=MAX_LENGTH, trainable=True)(inpt)\n",
    "    # Spatial dropout layer I:\n",
    "    layer = SpatialDropout1D(0.3)(layer)\n",
    "    # Bidirectional RNN (GRU) layer:\n",
    "    for i in range(num_layers):\n",
    "        layer = Bidirectional(GRU(num_units, return_sequences=True))(layer)\n",
    "    # Convolutional layer:\n",
    "    layer = Conv1D(128, kernel_size=2, padding=\"valid\",\n",
    "                   kernel_initializer=kernel_initializer)(layer)\n",
    "    #  Pooling layers:\n",
    "    avg_pool = GlobalAveragePooling1D()(layer)\n",
    "    max_pool = GlobalMaxPooling1D()(layer)\n",
    "    conc = concatenate([avg_pool, max_pool])\n",
    "    # Dropout layer II:\n",
    "    conc = Dropout(0.3)(conc)\n",
    "    # DNN layer:\n",
    "    den_layer = Dense(64, activation=activation)(conc)\n",
    "    outp = Dense(num_classes, activation=\"softmax\")(den_layer)\n",
    "    # Complete model\n",
    "    model = Model(inputs=inpt, outputs=outp)\n",
    "    # Defining the loss function, optimizer, and metrics\n",
    "    if optimizer == 'adam':\n",
    "        opt = tf.keras.optimizers.Adam(learning_rate=0.001)\n",
    "    elif optimizer == 'nadam':\n",
    "        opt = tf.keras.optimizers.Nadam(learning_rate=0.001)\n",
    "    elif optimizer == 'sgd':\n",
    "        opt = tf.keras.optimizers.SGD(learning_rate=0.001)\n",
    "    elif optimizer == 'adamax':\n",
    "        opt = tf.keras.optimizers.Adamax(learning_rate=0.001)\n",
    "    else:\n",
    "        raise ValueError('Invalid optimizer')\n",
    "    model.compile(loss='categorical_crossentropy', optimizer=opt,\n",
    "                  metrics=['categorical_accuracy'])\n",
    "    return model"
   ]
  },
  {
   "cell_type": "code",
   "execution_count": 78,
   "id": "374b6efd",
   "metadata": {
    "executionInfo": {
     "elapsed": 31,
     "status": "ok",
     "timestamp": 1678558321449,
     "user": {
      "displayName": "Faraj Lagum",
      "userId": "01113283037435065577"
     },
     "user_tz": 300
    },
    "id": "374b6efd"
   },
   "outputs": [],
   "source": [
    "# from scikeras.wrappers import KerasClassifier\n",
    "# !pip install scikeras[tensorflow]"
   ]
  },
  {
   "cell_type": "code",
   "execution_count": 79,
   "id": "168154a2",
   "metadata": {
    "executionInfo": {
     "elapsed": 31,
     "status": "ok",
     "timestamp": 1678558321450,
     "user": {
      "displayName": "Faraj Lagum",
      "userId": "01113283037435065577"
     },
     "user_tz": 300
    },
    "id": "168154a2"
   },
   "outputs": [],
   "source": [
    "\n",
    "\n",
    "# Define the parameter grid\n",
    "\n",
    "def hyperparameters_tuning():\n",
    "\n",
    "    param_grid = {\n",
    "        'num_layers': [1],\n",
    "        'num_units': [100],\n",
    "        'activation': ['relu', 'selu', 'elu'],\n",
    "        'optimizer': ['adam', 'nadam', 'adamax'],\n",
    "        'kernel_initializer': ['he_uniform', 'glorot_uniform', 'uniform']\n",
    "    }\n",
    "\n",
    "    # Create the Keras model\n",
    "    model = KerasClassifier(build_fn=create_model, epochs=10, batch_size=32)\n",
    "\n",
    "    # Create the grid search object\n",
    "    grid_search = GridSearchCV(\n",
    "        estimator=model, param_grid=param_grid, cv=3, n_jobs=-1)\n",
    "\n",
    "    # Run the grid search\n",
    "    grid_result = grid_search.fit(\n",
    "        x_train_padded, y_train_labels, validation_data=(x_test_padded, y_test_labels))\n",
    "\n",
    "    # Print the best results\n",
    "    print('Best score:', grid_result.best_score_)\n",
    "    print('Best parameters:', grid_result.best_params_)\n",
    "\n",
    "    # Save the best model\n",
    "    best_model = grid_result.best_estimator_.model\n",
    "    best_model.save('best_model_GridSearchCV.h5')\n",
    "    # Best parameters:  {'activation': 'relu', 'kernel_initializer': 'he_uniform', 'num_layers': 1, 'num_units': 100, 'optimizer': 'adam'}\n",
    "\n",
    "    return best_model, grid_result"
   ]
  },
  {
   "cell_type": "code",
   "execution_count": 80,
   "id": "49c8f407",
   "metadata": {
    "colab": {
     "base_uri": "https://localhost:8080/"
    },
    "executionInfo": {
     "elapsed": 31,
     "status": "ok",
     "timestamp": 1678558321450,
     "user": {
      "displayName": "Faraj Lagum",
      "userId": "01113283037435065577"
     },
     "user_tz": 300
    },
    "id": "49c8f407",
    "outputId": "9d823380-a1c3-407d-a1b8-0ed4c681c155"
   },
   "outputs": [
    {
     "name": "stdout",
     "output_type": "stream",
     "text": [
      "hyperparameters tuning ... \n"
     ]
    }
   ],
   "source": [
    "# Print the best parameters and score\n",
    "\n",
    "if __name__ == '__main__':\n",
    "    print(\"hyperparameters tuning ... \")\n",
    "    # best_model, grid_result = hyperparameters_tuning()\n",
    "    # print(\"Best parameters: \", grid_result.best_params_)\n",
    "    # print(\"Best score: \", grid_result.best_score_)\n",
    "    # with open('best_model_hyperparameters.txt', 'w') as f:\n",
    "    #     f.write(str(grid_result.best_params_))"
   ]
  }
 ],
 "metadata": {
  "accelerator": "GPU",
  "colab": {
   "provenance": []
  },
  "gpuClass": "standard",
  "jupytext": {
   "formats": "ipynb,py:percent"
  },
  "kernelspec": {
   "display_name": "ta-sa",
   "language": "python",
   "name": "ta-sa"
  },
  "language_info": {
   "codemirror_mode": {
    "name": "ipython",
    "version": 3
   },
   "file_extension": ".py",
   "mimetype": "text/x-python",
   "name": "python",
   "nbconvert_exporter": "python",
   "pygments_lexer": "ipython3",
   "version": "3.8.10"
  }
 },
 "nbformat": 4,
 "nbformat_minor": 5
}
