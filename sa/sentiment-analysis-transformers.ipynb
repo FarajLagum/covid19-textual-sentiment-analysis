{
 "cells": [
  {
   "cell_type": "code",
   "execution_count": 1,
   "id": "df08ef16",
   "metadata": {},
   "outputs": [],
   "source": [
    "#!pip install nb_black\n",
    "# !pip install transformers -U \n",
    "# !pip install sentencepiece\n",
    "#!pip install -U sentence-transformer\n",
    "#!pip install openpyxl"
   ]
  },
  {
   "cell_type": "code",
   "execution_count": 2,
   "id": "ecbf1d33",
   "metadata": {},
   "outputs": [
    {
     "name": "stderr",
     "output_type": "stream",
     "text": [
      "/home/fl/.ta-sa/lib/python3.8/site-packages/tqdm/auto.py:21: TqdmWarning: IProgress not found. Please update jupyter and ipywidgets. See https://ipywidgets.readthedocs.io/en/stable/user_install.html\n",
      "  from .autonotebook import tqdm as notebook_tqdm\n",
      "2023-03-12 17:15:21.478605: I tensorflow/core/platform/cpu_feature_guard.cc:193] This TensorFlow binary is optimized with oneAPI Deep Neural Network Library (oneDNN) to use the following CPU instructions in performance-critical operations:  AVX2 FMA\n",
      "To enable them in other operations, rebuild TensorFlow with the appropriate compiler flags.\n",
      "2023-03-12 17:15:21.629831: W tensorflow/compiler/xla/stream_executor/platform/default/dso_loader.cc:64] Could not load dynamic library 'libcudart.so.11.0'; dlerror: libcudart.so.11.0: cannot open shared object file: No such file or directory\n",
      "2023-03-12 17:15:21.629909: I tensorflow/compiler/xla/stream_executor/cuda/cudart_stub.cc:29] Ignore above cudart dlerror if you do not have a GPU set up on your machine.\n",
      "2023-03-12 17:15:22.419959: W tensorflow/compiler/xla/stream_executor/platform/default/dso_loader.cc:64] Could not load dynamic library 'libnvinfer.so.7'; dlerror: libnvinfer.so.7: cannot open shared object file: No such file or directory\n",
      "2023-03-12 17:15:22.420073: W tensorflow/compiler/xla/stream_executor/platform/default/dso_loader.cc:64] Could not load dynamic library 'libnvinfer_plugin.so.7'; dlerror: libnvinfer_plugin.so.7: cannot open shared object file: No such file or directory\n",
      "2023-03-12 17:15:22.420091: W tensorflow/compiler/tf2tensorrt/utils/py_utils.cc:38] TF-TRT Warning: Cannot dlopen some TensorRT libraries. If you would like to use Nvidia GPU with TensorRT, please make sure the missing libraries mentioned above are installed properly.\n"
     ]
    }
   ],
   "source": [
    "from transformers import pipeline\n"
   ]
  },
  {
   "cell_type": "code",
   "execution_count": 3,
   "id": "344a4b94",
   "metadata": {},
   "outputs": [
    {
     "name": "stderr",
     "output_type": "stream",
     "text": [
      "2023-03-12 17:15:25.322493: W tensorflow/compiler/xla/stream_executor/platform/default/dso_loader.cc:64] Could not load dynamic library 'libcuda.so.1'; dlerror: libcuda.so.1: cannot open shared object file: No such file or directory\n",
      "2023-03-12 17:15:25.322579: W tensorflow/compiler/xla/stream_executor/cuda/cuda_driver.cc:265] failed call to cuInit: UNKNOWN ERROR (303)\n",
      "2023-03-12 17:15:25.322609: I tensorflow/compiler/xla/stream_executor/cuda/cuda_diagnostics.cc:156] kernel driver does not appear to be running on this host (IoT): /proc/driver/nvidia/version does not exist\n",
      "2023-03-12 17:15:25.322851: I tensorflow/core/platform/cpu_feature_guard.cc:193] This TensorFlow binary is optimized with oneAPI Deep Neural Network Library (oneDNN) to use the following CPU instructions in performance-critical operations:  AVX2 FMA\n",
      "To enable them in other operations, rebuild TensorFlow with the appropriate compiler flags.\n",
      "All model checkpoint layers were used when initializing TFDistilBertForSequenceClassification.\n",
      "\n",
      "All the layers of TFDistilBertForSequenceClassification were initialized from the model checkpoint at distilbert-base-uncased-finetuned-sst-2-english.\n",
      "If your task is similar to the task the model of the checkpoint was trained on, you can already use TFDistilBertForSequenceClassification for predictions without further training.\n"
     ]
    }
   ],
   "source": [
    "import pandas as pd\n",
    "from transformers import pipeline\n",
    "\n",
    "# Load the sentiment analysis model\n",
    "model = \"distilbert-base-uncased-finetuned-sst-2-english\"\n",
    "sentiment_analyser = pipeline(\"sentiment-analysis\", model=model)\n",
    "\n",
    "# Define the input and output CSV file paths\n",
    "file_loc = \"./data/weeks/\"\n",
    "input_file = \"01_Week2_January_2021_COVID19_Ottawa.csv\"\n",
    "\n",
    "output_file = file_loc + \"output_\" + input_file\n",
    "\n",
    "# Read the input CSV file into a pandas dataframe\n",
    "df = pd.read_csv(file_loc + input_file)"
   ]
  },
  {
   "cell_type": "code",
   "execution_count": 4,
   "id": "693437a2",
   "metadata": {},
   "outputs": [],
   "source": [
    "#df[\"sentiment-analyser\"]=df['text'].apply(sentiment_analyser)"
   ]
  },
  {
   "cell_type": "code",
   "execution_count": 5,
   "id": "b70ee266",
   "metadata": {},
   "outputs": [],
   "source": [
    "df[[\"label\", \"score\"]] = df[\"text\"].apply(lambda text: pd.Series(sentiment_analyser(text)[0]))\n"
   ]
  },
  {
   "cell_type": "code",
   "execution_count": 6,
   "id": "5fc89413",
   "metadata": {},
   "outputs": [],
   "source": [
    "df = df.drop(columns=['text_clean_textual', 'Tweet Id', 'date', 'Month', 'Week'])"
   ]
  },
  {
   "cell_type": "code",
   "execution_count": 10,
   "id": "1db9ece4",
   "metadata": {},
   "outputs": [
    {
     "data": {
      "text/html": [
       "<div>\n",
       "<style scoped>\n",
       "    .dataframe tbody tr th:only-of-type {\n",
       "        vertical-align: middle;\n",
       "    }\n",
       "\n",
       "    .dataframe tbody tr th {\n",
       "        vertical-align: top;\n",
       "    }\n",
       "\n",
       "    .dataframe thead th {\n",
       "        text-align: right;\n",
       "    }\n",
       "</style>\n",
       "<table border=\"1\" class=\"dataframe\">\n",
       "  <thead>\n",
       "    <tr style=\"text-align: right;\">\n",
       "      <th></th>\n",
       "      <th>text</th>\n",
       "      <th>text_clean_sentiment</th>\n",
       "      <th>label</th>\n",
       "      <th>score</th>\n",
       "    </tr>\n",
       "  </thead>\n",
       "  <tbody>\n",
       "    <tr>\n",
       "      <th>0</th>\n",
       "      <td>Ottawa Citizen: COVID-19: Stay-home order does...</td>\n",
       "      <td>ottawa citizen stay_home order not_allow rando...</td>\n",
       "      <td>NEGATIVE</td>\n",
       "      <td>0.996920</td>\n",
       "    </tr>\n",
       "    <tr>\n",
       "      <th>1</th>\n",
       "      <td>@Wittmeier You’ve got to wonder how many front...</td>\n",
       "      <td>get wonder many front premier kenney think can...</td>\n",
       "      <td>NEGATIVE</td>\n",
       "      <td>0.996924</td>\n",
       "    </tr>\n",
       "    <tr>\n",
       "      <th>2</th>\n",
       "      <td>What you need to know about COVID-19 in Ottawa...</td>\n",
       "      <td>what need know ottawa thursday jan</td>\n",
       "      <td>NEGATIVE</td>\n",
       "      <td>0.960801</td>\n",
       "    </tr>\n",
       "    <tr>\n",
       "      <th>3</th>\n",
       "      <td>@JustinTrudeau Montreal didn't know it needed ...</td>\n",
       "      <td>montreal not_know need ottawa approval dump se...</td>\n",
       "      <td>NEGATIVE</td>\n",
       "      <td>0.996782</td>\n",
       "    </tr>\n",
       "    <tr>\n",
       "      <th>4</th>\n",
       "      <td>Family MD in Ottawa being asked to help out wi...</td>\n",
       "      <td>family ottawa ask help out with ltc outbreak w...</td>\n",
       "      <td>NEGATIVE</td>\n",
       "      <td>0.992434</td>\n",
       "    </tr>\n",
       "  </tbody>\n",
       "</table>\n",
       "</div>"
      ],
      "text/plain": [
       "                                                text  \\\n",
       "0  Ottawa Citizen: COVID-19: Stay-home order does...   \n",
       "1  @Wittmeier You’ve got to wonder how many front...   \n",
       "2  What you need to know about COVID-19 in Ottawa...   \n",
       "3  @JustinTrudeau Montreal didn't know it needed ...   \n",
       "4  Family MD in Ottawa being asked to help out wi...   \n",
       "\n",
       "                                text_clean_sentiment     label     score  \n",
       "0  ottawa citizen stay_home order not_allow rando...  NEGATIVE  0.996920  \n",
       "1  get wonder many front premier kenney think can...  NEGATIVE  0.996924  \n",
       "2                 what need know ottawa thursday jan  NEGATIVE  0.960801  \n",
       "3  montreal not_know need ottawa approval dump se...  NEGATIVE  0.996782  \n",
       "4  family ottawa ask help out with ltc outbreak w...  NEGATIVE  0.992434  "
      ]
     },
     "execution_count": 10,
     "metadata": {},
     "output_type": "execute_result"
    }
   ],
   "source": [
    "df.head()"
   ]
  },
  {
   "cell_type": "code",
   "execution_count": 8,
   "id": "30427f6e",
   "metadata": {},
   "outputs": [],
   "source": [
    "# Write the output dataframe to a new CSV file\n",
    "df.to_csv(output_file, index=False)"
   ]
  },
  {
   "cell_type": "code",
   "execution_count": 9,
   "id": "a27f79f5",
   "metadata": {},
   "outputs": [],
   "source": [
    "# Write the output dataframe to a new CSV file\n",
    "\n",
    "new_output_file = output_file.replace(\".csv\", \".xlsx\")\n",
    "\n",
    "\n",
    "df.to_excel(new_output_file, index=False)"
   ]
  },
  {
   "cell_type": "code",
   "execution_count": null,
   "id": "126f4923",
   "metadata": {},
   "outputs": [],
   "source": []
  }
 ],
 "metadata": {
  "kernelspec": {
   "display_name": "ta-sa",
   "language": "python",
   "name": "ta-sa"
  },
  "language_info": {
   "codemirror_mode": {
    "name": "ipython",
    "version": 3
   },
   "file_extension": ".py",
   "mimetype": "text/x-python",
   "name": "python",
   "nbconvert_exporter": "python",
   "pygments_lexer": "ipython3",
   "version": "3.8.10"
  }
 },
 "nbformat": 4,
 "nbformat_minor": 5
}
